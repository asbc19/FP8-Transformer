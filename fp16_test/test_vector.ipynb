{
 "cells": [
  {
   "cell_type": "markdown",
   "metadata": {},
   "source": [
    "# Test Vectors Generation\n",
    "- FP16 test vectors.\n",
    "1. Adder:\n",
    "    - Two addends and sum\n",
    "    - a and b are inputs\n",
    "    - y is output\n",
    "2. Reconfigurable Accumulator:\n",
    "    - Streams of data for 16 channels"
   ]
  },
  {
   "cell_type": "markdown",
   "metadata": {},
   "source": [
    "## Libraries"
   ]
  },
  {
   "cell_type": "code",
   "execution_count": 1,
   "metadata": {},
   "outputs": [],
   "source": [
    "import numpy as np\n",
    "import pandas as pd\n",
    "import matplotlib.pyplot as plt\n",
    "import seaborn as sns"
   ]
  },
  {
   "cell_type": "code",
   "execution_count": 2,
   "metadata": {},
   "outputs": [],
   "source": [
    "# Number of decimal digits to print\n",
    "n_fp = 8"
   ]
  },
  {
   "cell_type": "markdown",
   "metadata": {},
   "source": [
    "## 1. Methods"
   ]
  },
  {
   "cell_type": "markdown",
   "metadata": {},
   "source": [
    "### 1.1 Generate Binary Data\n",
    "- Binary representation of FP16.\n",
    "- `.view('H')` --> it changes the representation to 16-bit unsigned integer.\n",
    "- `[2:]` --> ommit `0b` from the result.\n",
    "- `zfill()` --> returns a copy of the string with 0 filled to the left. "
   ]
  },
  {
   "cell_type": "code",
   "execution_count": 2,
   "metadata": {},
   "outputs": [
    {
     "name": "stdout",
     "output_type": "stream",
     "text": [
      "0b1011011100000000\n",
      "uint16\n"
     ]
    }
   ],
   "source": [
    "print(bin(np.float16(-0.4375).view('H')))\n",
    "print(np.dtype('H'))"
   ]
  },
  {
   "cell_type": "code",
   "execution_count": 3,
   "metadata": {},
   "outputs": [
    {
     "name": "stdout",
     "output_type": "stream",
     "text": [
      "0010110000000000\n",
      "<class 'str'>\n"
     ]
    }
   ],
   "source": [
    "# code from https://stackoverflow.com/questions/33451800/decimal-to-binary-half-precision-ieee-754-in-python\n",
    "aux1 = bin(np.float16(0.0625).view('H'))[2:].zfill(16)\n",
    "print(aux1)\n",
    "print(type(aux1))"
   ]
  },
  {
   "cell_type": "code",
   "execution_count": 3,
   "metadata": {},
   "outputs": [],
   "source": [
    "\"\"\"\n",
    "Method to obtain the FP16 binary representation of any FP number\n",
    "\n",
    "IN:\n",
    "n_fp <-- floating-point number\n",
    "\n",
    "OUT:\n",
    "b_fp16 --> FP16 binary representation (string)\n",
    "\"\"\"\n",
    "def to_FP16_bin(n_fp):\n",
    "    # H is used to get a 16-bit unsigned integer representation\n",
    "    return bin(np.float16(n_fp).view('H'))[2:].zfill(16)"
   ]
  },
  {
   "cell_type": "code",
   "execution_count": 3,
   "metadata": {},
   "outputs": [
    {
     "name": "stdout",
     "output_type": "stream",
     "text": [
      "0011100000000000\n",
      "1011011100000000\n",
      "0010110000000000\n",
      "Addition: 0.5 + -0.4375 = 0.0625\n"
     ]
    }
   ],
   "source": [
    "# Example\n",
    "a = 0.5\n",
    "a_b = to_FP16_bin(a)\n",
    "print(a_b)\n",
    "\n",
    "b = -0.4375\n",
    "b_b = to_FP16_bin(b)\n",
    "print(b_b)\n",
    "\n",
    "c = a + b\n",
    "c_b = to_FP16_bin(c)\n",
    "print(c_b)\n",
    "\n",
    "print(f'Addition: {a} + {b} = {c}')"
   ]
  },
  {
   "cell_type": "code",
   "execution_count": 6,
   "metadata": {},
   "outputs": [
    {
     "ename": "TypeError",
     "evalue": "only integer scalar arrays can be converted to a scalar index",
     "output_type": "error",
     "traceback": [
      "\u001b[1;31m---------------------------------------------------------------------------\u001b[0m",
      "\u001b[1;31mTypeError\u001b[0m                                 Traceback (most recent call last)",
      "Cell \u001b[1;32mIn[6], line 3\u001b[0m\n\u001b[0;32m      1\u001b[0m \u001b[38;5;66;03m# Example with an array\u001b[39;00m\n\u001b[0;32m      2\u001b[0m a \u001b[38;5;241m=\u001b[39m np\u001b[38;5;241m.\u001b[39marray([\u001b[38;5;241m0.5\u001b[39m, \u001b[38;5;241m0.5\u001b[39m])\n\u001b[1;32m----> 3\u001b[0m a_b \u001b[38;5;241m=\u001b[39m \u001b[43mto_FP16_bin\u001b[49m\u001b[43m(\u001b[49m\u001b[43ma\u001b[49m\u001b[43m)\u001b[49m\n\u001b[0;32m      4\u001b[0m \u001b[38;5;28mprint\u001b[39m(a_b)\n\u001b[0;32m      6\u001b[0m b \u001b[38;5;241m=\u001b[39m np\u001b[38;5;241m.\u001b[39marray([\u001b[38;5;241m-\u001b[39m\u001b[38;5;241m0.4375\u001b[39m, \u001b[38;5;241m-\u001b[39m\u001b[38;5;241m0.4375\u001b[39m])\n",
      "Cell \u001b[1;32mIn[3], line 12\u001b[0m, in \u001b[0;36mto_FP16_bin\u001b[1;34m(n_fp)\u001b[0m\n\u001b[0;32m     10\u001b[0m \u001b[38;5;28;01mdef\u001b[39;00m \u001b[38;5;21mto_FP16_bin\u001b[39m(n_fp):\n\u001b[0;32m     11\u001b[0m     \u001b[38;5;66;03m# H is used to get a 16-bit unsigned integer representation\u001b[39;00m\n\u001b[1;32m---> 12\u001b[0m     \u001b[38;5;28;01mreturn\u001b[39;00m \u001b[38;5;28;43mbin\u001b[39;49m\u001b[43m(\u001b[49m\u001b[43mnp\u001b[49m\u001b[38;5;241;43m.\u001b[39;49m\u001b[43mfloat16\u001b[49m\u001b[43m(\u001b[49m\u001b[43mn_fp\u001b[49m\u001b[43m)\u001b[49m\u001b[38;5;241;43m.\u001b[39;49m\u001b[43mview\u001b[49m\u001b[43m(\u001b[49m\u001b[38;5;124;43m'\u001b[39;49m\u001b[38;5;124;43mH\u001b[39;49m\u001b[38;5;124;43m'\u001b[39;49m\u001b[43m)\u001b[49m\u001b[43m)\u001b[49m[\u001b[38;5;241m2\u001b[39m:]\u001b[38;5;241m.\u001b[39mzfill(\u001b[38;5;241m16\u001b[39m)\n",
      "\u001b[1;31mTypeError\u001b[0m: only integer scalar arrays can be converted to a scalar index"
     ]
    }
   ],
   "source": [
    "\"\"\"\n",
    "This method cannot use broadcast --> revise it later\n",
    "\"\"\"\n",
    "\n",
    "# Example with an array\n",
    "a = np.array([0.5, 0.5])\n",
    "a_b = to_FP16_bin(a)\n",
    "print(a_b)\n",
    "\n",
    "b = np.array([-0.4375, -0.4375])\n",
    "b_b = to_FP16_bin(b)\n",
    "print(b_b)\n",
    "\n",
    "c = a + b\n",
    "c_b = to_FP16_bin(c)\n",
    "print(c_b)\n",
    "\n",
    "print(f'Addition: {a} + {b} = {c}')"
   ]
  },
  {
   "cell_type": "markdown",
   "metadata": {},
   "source": [
    "### 1.2 Generate Pseudorandom Numbers"
   ]
  },
  {
   "cell_type": "code",
   "execution_count": 4,
   "metadata": {},
   "outputs": [],
   "source": [
    "\"\"\"\n",
    "Method to generate a FP random number in a defined interval for testing\n",
    "\n",
    "IN:\n",
    "low_l <-- lower limit\n",
    "up_l <-- upper limit\n",
    "n_sample <-- number of samples to generate\n",
    "\n",
    "OUT:\n",
    "prn --> vector of pseudorandom numbers\n",
    "\"\"\"\n",
    "def prng_t(low_l, up_l, n_sample=1):\n",
    "    # Individual samples are just float numbers no arrays\n",
    "    if n_sample == 1:\n",
    "        prn = np.random.random_sample()\n",
    "    else:\n",
    "        prn = np.random.random_sample((n_sample,))\n",
    "\n",
    "    return (up_l - low_l) * prn + low_l"
   ]
  },
  {
   "cell_type": "markdown",
   "metadata": {},
   "source": [
    "### 1.3 Convert Hex to fp16 numbers\n",
    "- From Hex to Binary.\n",
    "- Binary elements are separeted into sign, exponent, and mantissa.\n",
    "- fp16 formula (normal numbers) is applied:\n",
    "$$(-1)^{sign bit} \\times 2^{exponent - 15} \\times \\left( 1 + \\frac{mantissa}{1024} \\right)$$"
   ]
  },
  {
   "cell_type": "code",
   "execution_count": 5,
   "metadata": {},
   "outputs": [],
   "source": [
    "\"\"\"\n",
    "Convert Hex string to decimal numbers in fp16 representation\n",
    "- Only works for normal numbers\n",
    "\n",
    "IN:\n",
    "hex_s <-- hexadecimal string representing a fp16 number\n",
    "\n",
    "OUT:\n",
    "fp16_n --> fp16 decimal number\n",
    "\"\"\"\n",
    "def hex_to_fp16(hex_s):\n",
    "    # Hex string --> INT16 --> INT16 to binary string\n",
    "    bin_s = bin(int(hex_s, 16))\n",
    "    # Drop the '0b'\n",
    "    # Complete the 16 bits\n",
    "    bin_s = bin_s[2:].zfill(16)\n",
    "\n",
    "    # Debug\n",
    "    # print(bin_s)\n",
    "    # print(type(bin_s))\n",
    "    # print(len(bin_s))\n",
    "\n",
    "    # Separate sign, exponent, and mantissa.\n",
    "    # Get their numerical representation\n",
    "    # Turn the number into fp16 to make sure that the reconstructed number will be fp16\n",
    "\n",
    "    # 1 bit for sign\n",
    "    sign_t = bin_s[0]\n",
    "    # print(f'Sign in bits: {sign_t}')\n",
    "    sign_t = int(sign_t, 2)\n",
    "    sign_t = np.float16(sign_t)\n",
    "    # print(f'Sign value is {sign_t} and type is {sign_t.dtype}\\n')\n",
    "\n",
    "    # 5 bits for exponent\n",
    "    exp_t = bin_s[1:6]\n",
    "    # print(f'Exponent in bits: {exp_t}')\n",
    "    exp_t = int(exp_t, 2)\n",
    "    exp_t = np.float16(exp_t)\n",
    "    # print(f'Exponent value is {exp_t} and type is {exp_t.dtype}\\n')\n",
    "\n",
    "    # 10 bits for mantissa\n",
    "    man_t = bin_s[6:]\n",
    "    # print(f'Mantissa in bits: {man_t}')\n",
    "    man_t = int(man_t, 2)\n",
    "    man_t = np.float16(man_t)\n",
    "    # print(f'Mantissa value is {man_t} and type is {man_t.dtype}\\n')\n",
    "\n",
    "    # Apply the formula to calculate fp16 number\n",
    "    number_t = ((np.float16(-1))**sign_t) * (np.float16(2)**(exp_t - np.float16(15))) * (np.float16(1) + (man_t/np.float16(1024)))\n",
    "    # print(f'fp16 Decimal number: {number_t}')\n",
    "    # print(f'and type is {number_t.dtype}') \n",
    "    return number_t"
   ]
  },
  {
   "cell_type": "markdown",
   "metadata": {},
   "source": [
    "## 2. fp16 Adder"
   ]
  },
  {
   "cell_type": "markdown",
   "metadata": {},
   "source": [
    "### 2.1 Test Vectors Generation\n",
    "- Exceptions: --> 24 operations  \n",
    "    - NaN --> 5 operations\n",
    "        1. a is NaN (2)\n",
    "        2. b is NaN (2)\n",
    "        3. a and b are infinite: inf - inf \n",
    "    - Overflow --> 6 operations\n",
    "        1. a is inf (2)\n",
    "        2. b is inf (2)\n",
    "        3. y is inf (2) --> > +- 65 504\n",
    "    - Underflow --> 8 operations\n",
    "        1. a is denormalized (2)\n",
    "        2. b is denormalized (2)\n",
    "        3. y is denormalized (2) --> < 0.000061\n",
    "        4. y is zero (2)\n",
    "    - Zero Input --> 5 operations\n",
    "        1. a is zero (2)\n",
    "        2. b is zero (2)\n",
    "        3. a and b are zero (1)\n",
    "- Normal Operations: 1.000 operations"
   ]
  },
  {
   "cell_type": "code",
   "execution_count": 88,
   "metadata": {},
   "outputs": [],
   "source": [
    "# List to store input a and b \n",
    "# a consecutive pair corresponds to one operation\n",
    "in_v = []\n",
    "\n",
    "# List to store the expected output for y\n",
    "# each element corresponds to one pair (a,b)\n",
    "out_v = []\n",
    "\n",
    "# List to store each operation in decimal representation\n",
    "op_v = []\n",
    "\n",
    "# Define the interval for the random number in the test\n",
    "# Based on the normal numbers for FP16\n",
    "low_l = -65000\n",
    "up_l = 65000"
   ]
  },
  {
   "cell_type": "markdown",
   "metadata": {},
   "source": [
    "#### 2.1.1 NaN Exceptions:\n",
    "- We modify the NaN definition on the RTL code to match python definition: `16'b0111_1110_0000_0000`."
   ]
  },
  {
   "cell_type": "code",
   "execution_count": 93,
   "metadata": {},
   "outputs": [],
   "source": [
    "# For NaN Exceptions\n",
    "in_v_nan = []\n",
    "out_v_nan = []\n",
    "op_v_nan = []"
   ]
  },
  {
   "cell_type": "code",
   "execution_count": 94,
   "metadata": {},
   "outputs": [
    {
     "name": "stdout",
     "output_type": "stream",
     "text": [
      "['0111111000000000', '0110110101001000', '0111111000000000', '0111101101101100']\n",
      "['0111111000000000', '0111111000000000']\n",
      "['nan + 5409.26726588 = nan', 'nan + 60800.80630733 = nan']\n"
     ]
    }
   ],
   "source": [
    "# a is NaN\n",
    "ops = 2\n",
    "seeds = np.array([191, 194])\n",
    "\n",
    "for op in range(ops):\n",
    "    # For reproducibility\n",
    "    np.random.seed(seed=seeds[op])\n",
    "    \n",
    "    # Addends\n",
    "    a = np.nan\n",
    "    in_v_nan.append(to_FP16_bin(a))\n",
    "    b = prng_t(low_l=low_l, up_l=up_l)\n",
    "    in_v_nan.append(to_FP16_bin(b))\n",
    "\n",
    "    # Sum\n",
    "    y = a + b\n",
    "    out_v_nan.append(to_FP16_bin(y))\n",
    "\n",
    "    # Operation in base 10\n",
    "    op_sum = f'{a} + {b:.{n_fp}f} = {y}'\n",
    "    op_v_nan.append(op_sum)\n",
    "\n",
    "print(in_v_nan)\n",
    "print(out_v_nan)\n",
    "print(op_v_nan)\n"
   ]
  },
  {
   "cell_type": "code",
   "execution_count": 95,
   "metadata": {},
   "outputs": [
    {
     "name": "stdout",
     "output_type": "stream",
     "text": [
      "['0111111000000000', '0110110101001000', '0111111000000000', '0111101101101100', '1111000101000100', '0111111000000000', '0110111001110011', '0111111000000000']\n",
      "['0111111000000000', '0111111000000000', '0111111000000000', '0111111000000000']\n",
      "['nan + 5409.26726588 = nan', 'nan + 60800.80630733 = nan', '-10787.13938867 + nan = nan', '6603.72733469 + nan = nan']\n"
     ]
    }
   ],
   "source": [
    "# b is NaN\n",
    "ops = 2\n",
    "seeds = np.array([1, 3])\n",
    "\n",
    "for op in range(ops):\n",
    "    # For reproducibility\n",
    "    np.random.seed(seed=seeds[op])\n",
    "    \n",
    "    # Addends\n",
    "    a = prng_t(low_l=low_l, up_l=up_l)\n",
    "    in_v_nan.append(to_FP16_bin(a))\n",
    "    b = np.nan\n",
    "    in_v_nan.append(to_FP16_bin(b))\n",
    "\n",
    "    # Sum\n",
    "    y = a + b\n",
    "    out_v_nan.append(to_FP16_bin(y))\n",
    "\n",
    "    # Operation in base 10\n",
    "    op_sum = f'{a:.{n_fp}f} + {b} = {y}'\n",
    "    op_v_nan.append(op_sum)\n",
    "\n",
    "print(in_v_nan)\n",
    "print(out_v_nan)\n",
    "print(op_v_nan)"
   ]
  },
  {
   "cell_type": "code",
   "execution_count": 96,
   "metadata": {},
   "outputs": [
    {
     "name": "stdout",
     "output_type": "stream",
     "text": [
      "['0111111000000000', '0110110101001000', '0111111000000000', '0111101101101100', '1111000101000100', '0111111000000000', '0110111001110011', '0111111000000000', '0111110000000000', '1111110000000000']\n",
      "['0111111000000000', '0111111000000000', '0111111000000000', '0111111000000000', '0111111000000000']\n",
      "['nan + 5409.26726588 = nan', 'nan + 60800.80630733 = nan', '-10787.13938867 + nan = nan', '6603.72733469 + nan = nan', 'inf + -inf = nan']\n"
     ]
    }
   ],
   "source": [
    "# a and b are inf\n",
    "\n",
    "# Addends\n",
    "a = np.inf\n",
    "in_v_nan.append(to_FP16_bin(a))\n",
    "b = -np.inf\n",
    "in_v_nan.append(to_FP16_bin(b))\n",
    "\n",
    "# Sum\n",
    "y = np.nan\n",
    "out_v_nan.append(to_FP16_bin(y))\n",
    "\n",
    "# Operation in base 10\n",
    "op_sum = f'{a} + {b} = {y}'\n",
    "op_v_nan.append(op_sum)\n",
    "\n",
    "print(in_v_nan)\n",
    "print(out_v_nan)\n",
    "print(op_v_nan)\n",
    "    "
   ]
  },
  {
   "cell_type": "markdown",
   "metadata": {},
   "source": [
    "#### 2.1.2 Overflow Exceptions:"
   ]
  },
  {
   "cell_type": "code",
   "execution_count": 97,
   "metadata": {},
   "outputs": [],
   "source": [
    "# For Overflow Exceptions\n",
    "in_v_ovf = []\n",
    "out_v_ovf = []\n",
    "op_v_ovf = []"
   ]
  },
  {
   "cell_type": "code",
   "execution_count": 98,
   "metadata": {},
   "outputs": [
    {
     "name": "stdout",
     "output_type": "stream",
     "text": [
      "['0111110000000000', '1111101010111001', '0111110000000000', '0111100001001110']\n",
      "['0111110000000000', '0111110000000000']\n",
      "['inf + -55079.92238139 = inf', 'inf + 35271.68362468 = inf']\n"
     ]
    }
   ],
   "source": [
    "# a is inf\n",
    "ops = 2\n",
    "seeds = np.array([7, 10])\n",
    "\n",
    "for op in range(ops):\n",
    "    # For reproducibility\n",
    "    np.random.seed(seed=seeds[op])\n",
    "    \n",
    "    # Addends\n",
    "    a = np.inf\n",
    "    in_v_ovf.append(to_FP16_bin(a))\n",
    "    b = prng_t(low_l=low_l, up_l=up_l)\n",
    "    in_v_ovf.append(to_FP16_bin(b))\n",
    "\n",
    "    # Sum\n",
    "    y = a + b\n",
    "    out_v_ovf.append(to_FP16_bin(y))\n",
    "\n",
    "    # Operation in base 10\n",
    "    op_sum = f'{a} + {b:.{n_fp}f} = {y}'\n",
    "    op_v_ovf.append(op_sum)\n",
    "\n",
    "print(in_v_ovf)\n",
    "print(out_v_ovf)\n",
    "print(op_v_ovf)"
   ]
  },
  {
   "cell_type": "code",
   "execution_count": 99,
   "metadata": {},
   "outputs": [
    {
     "name": "stdout",
     "output_type": "stream",
     "text": [
      "['0111110000000000', '1111101010111001', '0111110000000000', '0111100001001110', '1111011000011001', '0111110000000000', '0111010011110110', '0111110000000000']\n",
      "['0111110000000000', '0111110000000000', '0111110000000000', '0111110000000000']\n",
      "['inf + -55079.92238139 = inf', 'inf + 35271.68362468 = inf', '-24968.45615875 + inf = inf', '20314.34408028 + inf = inf']\n"
     ]
    }
   ],
   "source": [
    "# b is inf\n",
    "ops = 2\n",
    "seeds = np.array([26, 87])\n",
    "\n",
    "for op in range(ops):\n",
    "    # For reproducibility\n",
    "    np.random.seed(seed=seeds[op])\n",
    "    \n",
    "    # Addends\n",
    "    a = prng_t(low_l=low_l, up_l=up_l)\n",
    "    in_v_ovf.append(to_FP16_bin(a))\n",
    "    b = np.inf\n",
    "    in_v_ovf.append(to_FP16_bin(b))\n",
    "\n",
    "    # Sum\n",
    "    y = a + b\n",
    "    out_v_ovf.append(to_FP16_bin(y))\n",
    "\n",
    "    # Operation in base 10\n",
    "    op_sum = f'{a:.{n_fp}f} + {b} = {y}'\n",
    "    op_v_ovf.append(op_sum)\n",
    "\n",
    "print(in_v_ovf)\n",
    "print(out_v_ovf)\n",
    "print(op_v_ovf)"
   ]
  },
  {
   "cell_type": "code",
   "execution_count": 100,
   "metadata": {},
   "outputs": [
    {
     "name": "stdout",
     "output_type": "stream",
     "text": [
      "['0111110000000000', '1111101010111001', '0111110000000000', '0111100001001110', '1111011000011001', '0111110000000000', '0111010011110110', '0111110000000000', '0111100100010010', '0111100100001100', '1111100111111101', '1111100011101011']\n",
      "['0111110000000000', '0111110000000000', '0111110000000000', '0111110000000000', '0111110000000000', '1111110000000000']\n",
      "['inf + -55079.92238139 = inf', 'inf + 35271.68362468 = inf', '-24968.45615875 + inf = inf', '20314.34408028 + inf = inf', '41542.87578131 + 41336.99560700 = inf', '-49068.91713328 + -40283.44080010 = -inf']\n"
     ]
    },
    {
     "name": "stderr",
     "output_type": "stream",
     "text": [
      "C:\\Users\\Andres\\AppData\\Local\\Temp\\ipykernel_21676\\4047982706.py:12: RuntimeWarning: overflow encountered in cast\n",
      "  return bin(np.float16(n_fp).view('H'))[2:].zfill(16)\n",
      "C:\\Users\\Andres\\AppData\\Local\\Temp\\ipykernel_21676\\2242942362.py:23: RuntimeWarning: overflow encountered in cast\n",
      "  op_sum = f'{a:.{n_fp}f} + {b:.{n_fp}f} = {np.float16(y)}'\n"
     ]
    }
   ],
   "source": [
    "# y is inf\n",
    "# sum > |65 504|\n",
    "ops = 2\n",
    "seeds = np.array([66, 55])\n",
    "limit_l = np.array([40000, -50000])\n",
    "limit_h = np.array([50000, -40000])\n",
    "\n",
    "for op in range(ops):\n",
    "    # For reproducibility\n",
    "    np.random.seed(seed=seeds[op])\n",
    "    \n",
    "    # Addends\n",
    "    a = prng_t(low_l=limit_l[op], up_l=limit_h[op])\n",
    "    in_v_ovf.append(to_FP16_bin(a))\n",
    "    b = prng_t(low_l=limit_l[op], up_l=limit_h[op])\n",
    "    in_v_ovf.append(to_FP16_bin(b))\n",
    "\n",
    "    # Sum\n",
    "    y = a + b\n",
    "    out_v_ovf.append(to_FP16_bin(y))\n",
    "\n",
    "    # Operation in base 10\n",
    "    op_sum = f'{a:.{n_fp}f} + {b:.{n_fp}f} = {np.float16(y)}'\n",
    "    op_v_ovf.append(op_sum)\n",
    "\n",
    "print(in_v_ovf)\n",
    "print(out_v_ovf)\n",
    "print(op_v_ovf)"
   ]
  },
  {
   "cell_type": "markdown",
   "metadata": {},
   "source": [
    "#### 2.1.3 Underflow Exceptions:"
   ]
  },
  {
   "cell_type": "code",
   "execution_count": 101,
   "metadata": {},
   "outputs": [],
   "source": [
    "# For Underflow Exceptions\n",
    "in_v_unf = []\n",
    "out_v_unf = []\n",
    "op_v_unf = []"
   ]
  },
  {
   "cell_type": "code",
   "execution_count": 102,
   "metadata": {},
   "outputs": [
    {
     "name": "stdout",
     "output_type": "stream",
     "text": [
      "['0000000000000001', '1111100011100111', '1000001000101011', '1111011000010101']\n",
      "['0000000000000000', '0000000000000000']\n",
      "['0.00000008 + -40144.37816087 = 0.00000000', '-0.00003306 + -24914.55109456 = 0.00000000']\n"
     ]
    }
   ],
   "source": [
    "# a is Denorm\n",
    "ops = 2\n",
    "seeds = np.array([742, 35])\n",
    "limit_l = np.array([0, -0.000061])\n",
    "limit_h = np.array([0.000061, 0])\n",
    "\n",
    "for op in range(ops):\n",
    "    # For reproducibility\n",
    "    np.random.seed(seed=seeds[op])\n",
    "    \n",
    "    # Addends\n",
    "    a = prng_t(low_l=limit_l[op], up_l=limit_h[op])\n",
    "    in_v_unf.append(to_FP16_bin(a))\n",
    "    b = prng_t(low_l=low_l, up_l=up_l)\n",
    "    in_v_unf.append(to_FP16_bin(b))\n",
    "\n",
    "    # Sum\n",
    "    y = 0.\n",
    "    out_v_unf.append(to_FP16_bin(y))\n",
    "\n",
    "    # Operation in base 10\n",
    "    op_sum = f'{a:.{n_fp}f} + {b:.{n_fp}f} = {y:.{n_fp}f}'\n",
    "    op_v_unf.append(op_sum)\n",
    "\n",
    "print(in_v_unf)\n",
    "print(out_v_unf)\n",
    "print(op_v_unf)"
   ]
  },
  {
   "cell_type": "code",
   "execution_count": 103,
   "metadata": {},
   "outputs": [
    {
     "name": "stdout",
     "output_type": "stream",
     "text": [
      "['0000000000000001', '1111100011100111', '1000001000101011', '1111011000010101', '1111011011001010', '0000001111010101', '1111101000100010', '1000000000011010']\n",
      "['0000000000000000', '0000000000000000', '0000000000000000', '0000000000000000']\n",
      "['0.00000008 + -40144.37816087 = 0.00000000', '-0.00003306 + -24914.55109456 = 0.00000000', '-27813.00318413 + 0.00005844 = 0.00000000', '-50246.49865383 + -0.00000156 = 0.00000000']\n"
     ]
    }
   ],
   "source": [
    "# b is Denorm\n",
    "ops = 2\n",
    "seeds = np.array([31, 47])\n",
    "limit_l = np.array([0, -0.000061])\n",
    "limit_h = np.array([0.000061, 0])\n",
    "\n",
    "for op in range(ops):\n",
    "    # For reproducibility\n",
    "    np.random.seed(seed=seeds[op])\n",
    "    \n",
    "    # Addends\n",
    "    a = prng_t(low_l=low_l, up_l=up_l)\n",
    "    in_v_unf.append(to_FP16_bin(a))\n",
    "    b = prng_t(low_l=limit_l[op], up_l=limit_h[op]) \n",
    "    in_v_unf.append(to_FP16_bin(b))\n",
    "\n",
    "    # Sum\n",
    "    y = 0.\n",
    "    out_v_unf.append(to_FP16_bin(y))\n",
    "\n",
    "    # Operation in base 10\n",
    "    op_sum = f'{a:.{n_fp}f} + {b:.{n_fp}f} = {y:.{n_fp}f}'\n",
    "    op_v_unf.append(op_sum)\n",
    "\n",
    "print(in_v_unf)\n",
    "print(out_v_unf)\n",
    "print(op_v_unf)"
   ]
  },
  {
   "cell_type": "code",
   "execution_count": 104,
   "metadata": {},
   "outputs": [
    {
     "name": "stdout",
     "output_type": "stream",
     "text": [
      "Verify the operations: -18249.57775831 + 18249.57781831 = 0.00006000\n",
      "Verify the operations: 58559.15598598 + -58559.15604398 = -0.00005800\n",
      "['0000000000000001', '1111100011100111', '1000001000101011', '1111011000010101', '1111011011001010', '0000001111010101', '1111101000100010', '1000000000011010', '1111010001110101', '0111010001110101', '0111101100100110', '1111101100100110']\n",
      "['0000000000000000', '0000000000000000', '0000000000000000', '0000000000000000', '0000000000000000', '0000000000000000']\n",
      "['0.00000008 + -40144.37816087 = 0.00000000', '-0.00003306 + -24914.55109456 = 0.00000000', '-27813.00318413 + 0.00005844 = 0.00000000', '-50246.49865383 + -0.00000156 = 0.00000000', '-18249.57775831 + 18249.57781831 = 0.00000000', '58559.15598598 + -58559.15604398 = 0.00000000']\n"
     ]
    }
   ],
   "source": [
    "# y is Denorm\n",
    "ops = 2\n",
    "seeds = np.array([491, 179])\n",
    "# To get a denorm. result\n",
    "bias_f = np.array([0.00006, -0.000058])\n",
    "\n",
    "for op in range(ops):\n",
    "    # For reproducibility\n",
    "    np.random.seed(seed=seeds[op])\n",
    "    \n",
    "    # Addends --> make sure that bias is the result\n",
    "    # a - b = y\n",
    "    # (-a + bias) + (a)\n",
    "    # (a - bias) + (-a)\n",
    "    a = prng_t(low_l=low_l, up_l=up_l)\n",
    "    b = -a\n",
    "    a =  a + bias_f[op]\n",
    "\n",
    "    in_v_unf.append(to_FP16_bin(a))\n",
    "    in_v_unf.append(to_FP16_bin(b))\n",
    "\n",
    "    # Result without the underflow rule in the RTL\n",
    "    y = a + b\n",
    "    print(f'Verify the operations: {a:.{n_fp}f} + {b:.{n_fp}f} = {y:.{n_fp}f}')\n",
    "\n",
    "    # Sum for the RTL testbench\n",
    "    y = 0.\n",
    "    out_v_unf.append(to_FP16_bin(y))\n",
    "\n",
    "    # Operation in base 10\n",
    "    op_sum = f'{a:.{n_fp}f} + {b:.{n_fp}f} = {y:.{n_fp}f}'\n",
    "    op_v_unf.append(op_sum)\n",
    "\n",
    "print(in_v_unf)\n",
    "print(out_v_unf)\n",
    "print(op_v_unf)"
   ]
  },
  {
   "cell_type": "code",
   "execution_count": 105,
   "metadata": {},
   "outputs": [
    {
     "name": "stdout",
     "output_type": "stream",
     "text": [
      "['0000000000000001', '1111100011100111', '1000001000101011', '1111011000010101', '1111011011001010', '0000001111010101', '1111101000100010', '1000000000011010', '1111010001110101', '0111010001110101', '0111101100100110', '1111101100100110', '0110001111011000', '1110001111011000', '1111100001100100', '0111100001100100']\n",
      "['0000000000000000', '0000000000000000', '0000000000000000', '0000000000000000', '0000000000000000', '0000000000000000', '0000000000000000', '0000000000000000']\n",
      "['0.00000008 + -40144.37816087 = 0.00000000', '-0.00003306 + -24914.55109456 = 0.00000000', '-27813.00318413 + 0.00005844 = 0.00000000', '-50246.49865383 + -0.00000156 = 0.00000000', '-18249.57775831 + 18249.57781831 = 0.00000000', '58559.15598598 + -58559.15604398 = 0.00000000', '1004.08988774 + -1004.08988774 = 0.00000000', '-35972.15971004 + 35972.15971004 = 0.00000000']\n"
     ]
    }
   ],
   "source": [
    "# y is zero\n",
    "ops = 2\n",
    "seeds = np.array([154, 16])\n",
    "\n",
    "for op in range(ops):\n",
    "    # For reproducibility\n",
    "    np.random.seed(seed=seeds[op])\n",
    "    \n",
    "    # Addends \n",
    "    a = prng_t(low_l=low_l, up_l=up_l)\n",
    "    b = -a\n",
    "\n",
    "    in_v_unf.append(to_FP16_bin(a))\n",
    "    in_v_unf.append(to_FP16_bin(b))\n",
    "\n",
    "    # sum\n",
    "    y = a + b\n",
    "    out_v_unf.append(to_FP16_bin(y))\n",
    "\n",
    "    # Operation in base 10\n",
    "    op_sum = f'{a:.{n_fp}f} + {b:.{n_fp}f} = {y:.{n_fp}f}'\n",
    "    op_v_unf.append(op_sum)\n",
    "\n",
    "print(in_v_unf)\n",
    "print(out_v_unf)\n",
    "print(op_v_unf)"
   ]
  },
  {
   "cell_type": "markdown",
   "metadata": {},
   "source": [
    "#### 2.1.4 Zero Inputs Case:\n",
    "- Since the exceptions check the exponent, zero inputs could be mistaken by an exception.\n",
    "    - Change the definition of denormalized number from the original code."
   ]
  },
  {
   "cell_type": "code",
   "execution_count": 106,
   "metadata": {},
   "outputs": [],
   "source": [
    "# Reduced Interval to represent numbers with more fractional digits\n",
    "low_l = -50\n",
    "up_l = 50\n",
    "\n",
    "# For Normal Numbers\n",
    "in_v_zero = []\n",
    "out_v_zero = []\n",
    "op_v_zero = []"
   ]
  },
  {
   "cell_type": "code",
   "execution_count": 107,
   "metadata": {},
   "outputs": [
    {
     "name": "stdout",
     "output_type": "stream",
     "text": [
      "Dimension of b: (2,)\n",
      "Data Type of b: float16\n",
      "[17.23  -1.192]\n",
      "Dimension of a: (2,)\n",
      "Data Type of a: float16\n",
      "[0. 0.]\n",
      "Dimension of y: (2,)\n",
      "Data Type of y: float16\n",
      "[17.23  -1.192]\n",
      "Dimension of input vector: 4\n",
      "['0000000000000000', '0100110001001111', '0000000000000000', '1011110011000101']\n",
      "Dimension of output vector: 2\n",
      "['0100110001001111', '1011110011000101']\n",
      "Dimension of operation vector: 2\n",
      "['0.00000000 + 17.23437500 = 17.23437500', '0.00000000 + -1.19238281 = -1.19238281']\n"
     ]
    }
   ],
   "source": [
    "# a is zero\n",
    "ops = 2\n",
    "seed = 99\n",
    "\n",
    "# For reproducibility\n",
    "np.random.seed(seed=seed)\n",
    "\n",
    "# Addends\n",
    "b = prng_t(low_l=low_l, up_l=up_l, n_sample=ops)\n",
    "# Transform to fp16\n",
    "b = np.float16(b)\n",
    "print(f'Dimension of b: {b.shape}')\n",
    "print(f'Data Type of b: {b.dtype}')\n",
    "print(b)\n",
    "\n",
    "a = np.zeros(ops)\n",
    "# Transform to fp16\n",
    "a = np.float16(a)\n",
    "print(f'Dimension of a: {a.shape}')\n",
    "print(f'Data Type of a: {a.dtype}')\n",
    "print(a)\n",
    "\n",
    "# Generate the result and store (fp16)\n",
    "y = a + b\n",
    "print(f'Dimension of y: {y.shape}')\n",
    "print(f'Data Type of y: {y.dtype}')\n",
    "print(y)\n",
    "\n",
    "# Store values\n",
    "for op in range(ops):\n",
    "    # Addends\n",
    "    in_v_zero.append(to_FP16_bin(a[op]))\n",
    "    in_v_zero.append(to_FP16_bin(b[op]))\n",
    "\n",
    "    # Sum\n",
    "    out_v_zero.append(to_FP16_bin(y[op]))\n",
    "\n",
    "    # Operation in base 10\n",
    "    op_sum = f'{a[op]:.{n_fp}f} + {b[op]:.{n_fp}f} = {y[op]:.{n_fp}f}'\n",
    "    op_v_zero.append(op_sum)\n",
    "\n",
    "\n",
    "print(f'Dimension of input vector: {len(in_v_zero)}')\n",
    "print(in_v_zero)\n",
    "print(f'Dimension of output vector: {len(out_v_zero)}')\n",
    "print(out_v_zero)\n",
    "print(f'Dimension of operation vector: {len(op_v_zero)}')\n",
    "print(op_v_zero)\n"
   ]
  },
  {
   "cell_type": "code",
   "execution_count": 108,
   "metadata": {},
   "outputs": [
    {
     "name": "stdout",
     "output_type": "stream",
     "text": [
      "Dimension of a: (2,)\n",
      "Data Type of a: float16\n",
      "[-48.5  32.1]\n",
      "Dimension of b: (2,)\n",
      "Data Type of b: float16\n",
      "[0. 0.]\n",
      "Dimension of y: (2,)\n",
      "Data Type of y: float16\n",
      "[-48.5  32.1]\n",
      "Dimension of input vector: 8\n",
      "['0000000000000000', '0100110001001111', '0000000000000000', '1011110011000101', '1101001000010000', '0000000000000000', '0101000000000011', '0000000000000000']\n",
      "Dimension of output vector: 4\n",
      "['0100110001001111', '1011110011000101', '1101001000010000', '0101000000000011']\n",
      "Dimension of operation vector: 4\n",
      "['0.00000000 + 17.23437500 = 17.23437500', '0.00000000 + -1.19238281 = -1.19238281', '-48.50000000 + 0.00000000 = -48.50000000', '32.09375000 + 0.00000000 = 32.09375000']\n"
     ]
    }
   ],
   "source": [
    "# b is zero\n",
    "ops = 2\n",
    "seed = 708\n",
    "\n",
    "# For reproducibility\n",
    "np.random.seed(seed=seed)\n",
    "\n",
    "# Addends\n",
    "a = prng_t(low_l=low_l, up_l=up_l, n_sample=ops) \n",
    "# Transform to fp16\n",
    "a = np.float16(a)\n",
    "print(f'Dimension of a: {a.shape}')\n",
    "print(f'Data Type of a: {a.dtype}')\n",
    "print(a)\n",
    "\n",
    "b = np.zeros(ops) \n",
    "# Transform to fp16\n",
    "b = np.float16(b)\n",
    "print(f'Dimension of b: {b.shape}')\n",
    "print(f'Data Type of b: {b.dtype}')\n",
    "print(b)\n",
    "\n",
    "# Generate the result and store (fp16)\n",
    "y = a + b\n",
    "print(f'Dimension of y: {y.shape}')\n",
    "print(f'Data Type of y: {y.dtype}')\n",
    "print(y)\n",
    "\n",
    "# Store values\n",
    "for op in range(ops):\n",
    "    # Addends\n",
    "    in_v_zero.append(to_FP16_bin(a[op]))\n",
    "    in_v_zero.append(to_FP16_bin(b[op]))\n",
    "\n",
    "    # Sum\n",
    "    out_v_zero.append(to_FP16_bin(y[op]))\n",
    "\n",
    "    # Operation in base 10\n",
    "    op_sum = f'{a[op]:.{n_fp}f} + {b[op]:.{n_fp}f} = {y[op]:.{n_fp}f}'\n",
    "    op_v_zero.append(op_sum)\n",
    "\n",
    "\n",
    "print(f'Dimension of input vector: {len(in_v_zero)}')\n",
    "print(in_v_zero)\n",
    "print(f'Dimension of output vector: {len(out_v_zero)}')\n",
    "print(out_v_zero)\n",
    "print(f'Dimension of operation vector: {len(op_v_zero)}')\n",
    "print(op_v_zero)"
   ]
  },
  {
   "cell_type": "code",
   "execution_count": 109,
   "metadata": {},
   "outputs": [
    {
     "name": "stdout",
     "output_type": "stream",
     "text": [
      "Dimension of input vector: 10\n",
      "['0000000000000000', '0100110001001111', '0000000000000000', '1011110011000101', '1101001000010000', '0000000000000000', '0101000000000011', '0000000000000000', '0000000000000000', '0000000000000000']\n",
      "Dimension of output vector: 5\n",
      "['0100110001001111', '1011110011000101', '1101001000010000', '0101000000000011', '0000000000000000']\n",
      "Dimension of operation vector: 5\n",
      "['0.00000000 + 17.23437500 = 17.23437500', '0.00000000 + -1.19238281 = -1.19238281', '-48.50000000 + 0.00000000 = -48.50000000', '32.09375000 + 0.00000000 = 32.09375000', '0.00000000 + 0.00000000 = 0.00000000']\n"
     ]
    }
   ],
   "source": [
    "# a and b are zero\n",
    "\n",
    "# Addends\n",
    "a = 0. \n",
    "# Transform to fp16\n",
    "a = np.float16(a)\n",
    "\n",
    "b = 0. \n",
    "# Transform to fp16\n",
    "b = np.float16(b)\n",
    "\n",
    "# Generate the result and store (fp16)\n",
    "y = a + b\n",
    "\n",
    "# Addends\n",
    "in_v_zero.append(to_FP16_bin(a))\n",
    "in_v_zero.append(to_FP16_bin(b))\n",
    "\n",
    "# Sum\n",
    "out_v_zero.append(to_FP16_bin(y))\n",
    "\n",
    "# Operation in base 10\n",
    "op_sum = f'{a:.{n_fp}f} + {b:.{n_fp}f} = {y:.{n_fp}f}'\n",
    "op_v_zero.append(op_sum)\n",
    "\n",
    "print(f'Dimension of input vector: {len(in_v_zero)}')\n",
    "print(in_v_zero)\n",
    "print(f'Dimension of output vector: {len(out_v_zero)}')\n",
    "print(out_v_zero)\n",
    "print(f'Dimension of operation vector: {len(op_v_zero)}')\n",
    "print(op_v_zero)"
   ]
  },
  {
   "cell_type": "markdown",
   "metadata": {},
   "source": [
    "#### 2.1.5 Normal Operations:\n",
    "- For error analysis, we will store the addends and sums with different precision:\n",
    "    - Addends --> correspond to the exact FP16 representation but they are extended to FP64 to obtain the exact result: `a_test` and `b_test`\n",
    "    - Approx. sum --> sum is performed using FP16, so there is some approximation in the result: `y_approx_sw`\n",
    "    - Exact sum --> sum is performed using FP64, so there is no approximation in the result: `y_exact_sw`"
   ]
  },
  {
   "cell_type": "code",
   "execution_count": 110,
   "metadata": {},
   "outputs": [],
   "source": [
    "# Reduced Interval to avoid overflows\n",
    "low_l = -50\n",
    "up_l = 50\n",
    "\n",
    "# For Normal Numbers\n",
    "in_v_norm = []\n",
    "out_v_norm = []\n",
    "op_v_norm = []"
   ]
  },
  {
   "cell_type": "code",
   "execution_count": 111,
   "metadata": {},
   "outputs": [
    {
     "name": "stdout",
     "output_type": "stream",
     "text": [
      "Dimension of a: (1000,)\n",
      "Data Type of a: float16\n",
      "[-29.16   -1.832  -7.945  35.9   -32.88  -16.11  -22.95   19.11  -27.95\n",
      "  31.19 ]\n",
      "Dimension of b: (1000,)\n",
      "Data Type of b: float16\n",
      "[  9.53 -22.39  18.17 -12.31 -21.9   23.95  47.22  31.8   20.84  41.44]\n",
      "Dimension of y: (1000,)\n",
      "Data Type of y: float16\n",
      "[-19.62  -24.22   10.23   23.6   -54.78    7.844  24.27   50.9    -7.11\n",
      "  72.6  ]\n",
      "Dimension of input vector: 2000\n",
      "['1100111101001010', '0100100011000100', '1011111101010100', '1100110110011001', '1100011111110010', '0100110010001011', '0101000001111101', '1100101000101000', '1101000000011100', '1100110101111010']\n",
      "Dimension of output vector: 1000\n",
      "['1100110011101000', '1100111000001110', '0100100100011101', '0100110111100110', '1101001011011001', '0100011111011000', '0100111000010001', '0101001001011101', '1100011100011100', '0101010010001010']\n",
      "Dimension of operation vector: 1000\n",
      "['-29.15625000 + 9.53125000 = -19.62500000', '-1.83203125 + -22.39062500 = -24.21875000', '-7.94531250 + 18.17187500 = 10.22656250', '35.90625000 + -12.31250000 = 23.59375000', '-32.87500000 + -21.90625000 = -54.78125000', '-16.10937500 + 23.95312500 = 7.84375000', '-22.95312500 + 47.21875000 = 24.26562500', '19.10937500 + 31.79687500 = 50.90625000', '-27.95312500 + 20.84375000 = -7.10937500', '31.18750000 + 41.43750000 = 72.62500000']\n"
     ]
    }
   ],
   "source": [
    "# Normal operations\n",
    "ops = 1000\n",
    "seed = 22\n",
    "\n",
    "# For reproducibility\n",
    "np.random.seed(seed=seed)\n",
    "\n",
    "# Total prn's for operations\n",
    "total_n = prng_t(low_l=low_l, up_l=up_l, n_sample=2*ops)\n",
    "# Numbers are truncated to fp16\n",
    "total_n = np.float16(total_n)\n",
    "# print(total_n[:10])\n",
    "# print(total_n[ops:ops+10])\n",
    "# print(total_n.shape)\n",
    "\n",
    "# Addends\n",
    "a = total_n[:ops]\n",
    "print(f'Dimension of a: {a.shape}')\n",
    "print(f'Data Type of a: {a.dtype}')\n",
    "print(a[:10])\n",
    "\n",
    "# a for error analysis\n",
    "# make a shallow copy to get a new array independent of the original a\n",
    "a_test = np.copy(a)\n",
    "# Extend to fp64 to get the exact result\n",
    "a_test = np.float64(a_test)\n",
    "\n",
    "b = total_n[ops:]\n",
    "print(f'Dimension of b: {b.shape}')\n",
    "print(f'Data Type of b: {b.dtype}')\n",
    "print(b[:10])\n",
    "\n",
    "# b for error analysis\n",
    "# make a shallow copy to get a new array independent of the original b\n",
    "b_test = np.copy(b)\n",
    "# Extend to fp64 to get the exact result\n",
    "b_test = np.float64(b_test)\n",
    "\n",
    "# Generate the result and store (fp16)\n",
    "y = a + b\n",
    "print(f'Dimension of y: {y.shape}')\n",
    "print(f'Data Type of y: {y.dtype}')\n",
    "print(y[:10])\n",
    "\n",
    "# y for error analysis\n",
    "# make a shallow copy to get a new array independent of the original y\n",
    "y_approx_sw = np.copy(y)\n",
    "# Extend to fp64 to operate with the exact result\n",
    "y_approx_sw = np.float64(y_approx_sw)\n",
    "# Calculate the exact y\n",
    "y_exact_sw = a_test + b_test\n",
    "\n",
    "# Store values\n",
    "for op in range(ops):\n",
    "    # Addends\n",
    "    in_v_norm.append(to_FP16_bin(a[op]))\n",
    "    in_v_norm.append(to_FP16_bin(b[op]))\n",
    "\n",
    "    # Sum\n",
    "    out_v_norm.append(to_FP16_bin(y[op]))\n",
    "\n",
    "    # Operation in base 10\n",
    "    op_sum = f'{a[op]:.{n_fp}f} + {b[op]:.{n_fp}f} = {y[op]:.{n_fp}f}'\n",
    "    op_v_norm.append(op_sum)\n",
    "\n",
    "\n",
    "print(f'Dimension of input vector: {len(in_v_norm)}')\n",
    "print(in_v_norm[0:10])\n",
    "print(f'Dimension of output vector: {len(out_v_norm)}')\n",
    "print(out_v_norm[0:10])\n",
    "print(f'Dimension of operation vector: {len(op_v_norm)}')\n",
    "print(op_v_norm[0:10])\n"
   ]
  },
  {
   "cell_type": "markdown",
   "metadata": {},
   "source": [
    "#### 2.1.6 Total Operations:"
   ]
  },
  {
   "cell_type": "code",
   "execution_count": 112,
   "metadata": {},
   "outputs": [
    {
     "name": "stdout",
     "output_type": "stream",
     "text": [
      "Total number of addends: 2048\n",
      "Total number of sums: 1024\n",
      "Total number of operations: 1024\n"
     ]
    }
   ],
   "source": [
    "# List to store input a and b \n",
    "# a consecutive pair corresponds to one operation\n",
    "in_v = in_v_nan + in_v_ovf + in_v_unf + in_v_zero + in_v_norm\n",
    "print(f'Total number of addends: {len(in_v)}')\n",
    "\n",
    "# List to store the expected output for y\n",
    "# each element corresponds to one pair (a,b)\n",
    "out_v = out_v_nan + out_v_ovf + out_v_unf + out_v_zero + out_v_norm\n",
    "print(f'Total number of sums: {len(out_v)}')\n",
    "\n",
    "# List to store each operation in decimal representation\n",
    "op_v = op_v_nan + op_v_ovf + op_v_unf + op_v_zero + op_v_norm\n",
    "print(f'Total number of operations: {len(op_v)}')"
   ]
  },
  {
   "cell_type": "markdown",
   "metadata": {},
   "source": [
    "### 2.2 Text File Creation\n",
    "- Create 3 text files:\n",
    "    - test_vec.txt --> input vectors a and b are consecutive for one operation\n",
    "    - label_vec.txt --> expected output y corresponding to a + b\n",
    "    - op_summary.txt --> operands in base 10"
   ]
  },
  {
   "cell_type": "code",
   "execution_count": 113,
   "metadata": {},
   "outputs": [
    {
     "data": {
      "text/html": [
       "<div>\n",
       "<style scoped>\n",
       "    .dataframe tbody tr th:only-of-type {\n",
       "        vertical-align: middle;\n",
       "    }\n",
       "\n",
       "    .dataframe tbody tr th {\n",
       "        vertical-align: top;\n",
       "    }\n",
       "\n",
       "    .dataframe thead th {\n",
       "        text-align: right;\n",
       "    }\n",
       "</style>\n",
       "<table border=\"1\" class=\"dataframe\">\n",
       "  <thead>\n",
       "    <tr style=\"text-align: right;\">\n",
       "      <th></th>\n",
       "      <th>0</th>\n",
       "    </tr>\n",
       "  </thead>\n",
       "  <tbody>\n",
       "    <tr>\n",
       "      <th>0</th>\n",
       "      <td>0111111000000000</td>\n",
       "    </tr>\n",
       "    <tr>\n",
       "      <th>1</th>\n",
       "      <td>0110110101001000</td>\n",
       "    </tr>\n",
       "    <tr>\n",
       "      <th>2</th>\n",
       "      <td>0111111000000000</td>\n",
       "    </tr>\n",
       "    <tr>\n",
       "      <th>3</th>\n",
       "      <td>0111101101101100</td>\n",
       "    </tr>\n",
       "    <tr>\n",
       "      <th>4</th>\n",
       "      <td>1111000101000100</td>\n",
       "    </tr>\n",
       "    <tr>\n",
       "      <th>...</th>\n",
       "      <td>...</td>\n",
       "    </tr>\n",
       "    <tr>\n",
       "      <th>2043</th>\n",
       "      <td>0101000001010110</td>\n",
       "    </tr>\n",
       "    <tr>\n",
       "      <th>2044</th>\n",
       "      <td>1100100001100001</td>\n",
       "    </tr>\n",
       "    <tr>\n",
       "      <th>2045</th>\n",
       "      <td>1100100111010101</td>\n",
       "    </tr>\n",
       "    <tr>\n",
       "      <th>2046</th>\n",
       "      <td>1100111010111100</td>\n",
       "    </tr>\n",
       "    <tr>\n",
       "      <th>2047</th>\n",
       "      <td>1100110000101101</td>\n",
       "    </tr>\n",
       "  </tbody>\n",
       "</table>\n",
       "<p>2048 rows × 1 columns</p>\n",
       "</div>"
      ],
      "text/plain": [
       "                     0\n",
       "0     0111111000000000\n",
       "1     0110110101001000\n",
       "2     0111111000000000\n",
       "3     0111101101101100\n",
       "4     1111000101000100\n",
       "...                ...\n",
       "2043  0101000001010110\n",
       "2044  1100100001100001\n",
       "2045  1100100111010101\n",
       "2046  1100111010111100\n",
       "2047  1100110000101101\n",
       "\n",
       "[2048 rows x 1 columns]"
      ]
     },
     "metadata": {},
     "output_type": "display_data"
    }
   ],
   "source": [
    "# Input vector text file\n",
    "df = pd.DataFrame(in_v)\n",
    "display(df)\n",
    "\n",
    "# Save to .txt file\n",
    "df.to_csv(\"./test_vectors/test_vec.txt\", header=None, index=None, sep=' ', mode='w')"
   ]
  },
  {
   "cell_type": "code",
   "execution_count": 114,
   "metadata": {},
   "outputs": [
    {
     "data": {
      "text/html": [
       "<div>\n",
       "<style scoped>\n",
       "    .dataframe tbody tr th:only-of-type {\n",
       "        vertical-align: middle;\n",
       "    }\n",
       "\n",
       "    .dataframe tbody tr th {\n",
       "        vertical-align: top;\n",
       "    }\n",
       "\n",
       "    .dataframe thead th {\n",
       "        text-align: right;\n",
       "    }\n",
       "</style>\n",
       "<table border=\"1\" class=\"dataframe\">\n",
       "  <thead>\n",
       "    <tr style=\"text-align: right;\">\n",
       "      <th></th>\n",
       "      <th>0</th>\n",
       "    </tr>\n",
       "  </thead>\n",
       "  <tbody>\n",
       "    <tr>\n",
       "      <th>0</th>\n",
       "      <td>0111111000000000</td>\n",
       "    </tr>\n",
       "    <tr>\n",
       "      <th>1</th>\n",
       "      <td>0111111000000000</td>\n",
       "    </tr>\n",
       "    <tr>\n",
       "      <th>2</th>\n",
       "      <td>0111111000000000</td>\n",
       "    </tr>\n",
       "    <tr>\n",
       "      <th>3</th>\n",
       "      <td>0111111000000000</td>\n",
       "    </tr>\n",
       "    <tr>\n",
       "      <th>4</th>\n",
       "      <td>0111111000000000</td>\n",
       "    </tr>\n",
       "    <tr>\n",
       "      <th>...</th>\n",
       "      <td>...</td>\n",
       "    </tr>\n",
       "    <tr>\n",
       "      <th>1019</th>\n",
       "      <td>0101000101110000</td>\n",
       "    </tr>\n",
       "    <tr>\n",
       "      <th>1020</th>\n",
       "      <td>0011111011010000</td>\n",
       "    </tr>\n",
       "    <tr>\n",
       "      <th>1021</th>\n",
       "      <td>0101001010001011</td>\n",
       "    </tr>\n",
       "    <tr>\n",
       "      <th>1022</th>\n",
       "      <td>1100110100011011</td>\n",
       "    </tr>\n",
       "    <tr>\n",
       "      <th>1023</th>\n",
       "      <td>1101000101110100</td>\n",
       "    </tr>\n",
       "  </tbody>\n",
       "</table>\n",
       "<p>1024 rows × 1 columns</p>\n",
       "</div>"
      ],
      "text/plain": [
       "                     0\n",
       "0     0111111000000000\n",
       "1     0111111000000000\n",
       "2     0111111000000000\n",
       "3     0111111000000000\n",
       "4     0111111000000000\n",
       "...                ...\n",
       "1019  0101000101110000\n",
       "1020  0011111011010000\n",
       "1021  0101001010001011\n",
       "1022  1100110100011011\n",
       "1023  1101000101110100\n",
       "\n",
       "[1024 rows x 1 columns]"
      ]
     },
     "metadata": {},
     "output_type": "display_data"
    }
   ],
   "source": [
    "# Output vector text file\n",
    "df = pd.DataFrame(out_v)\n",
    "display(df)\n",
    "\n",
    "# Save to .txt file\n",
    "df.to_csv(\"./test_vectors/label_vec.txt\", header=None, index=None, sep=' ', mode='w')"
   ]
  },
  {
   "cell_type": "code",
   "execution_count": 115,
   "metadata": {},
   "outputs": [
    {
     "data": {
      "text/html": [
       "<div>\n",
       "<style scoped>\n",
       "    .dataframe tbody tr th:only-of-type {\n",
       "        vertical-align: middle;\n",
       "    }\n",
       "\n",
       "    .dataframe tbody tr th {\n",
       "        vertical-align: top;\n",
       "    }\n",
       "\n",
       "    .dataframe thead th {\n",
       "        text-align: right;\n",
       "    }\n",
       "</style>\n",
       "<table border=\"1\" class=\"dataframe\">\n",
       "  <thead>\n",
       "    <tr style=\"text-align: right;\">\n",
       "      <th></th>\n",
       "      <th>0</th>\n",
       "    </tr>\n",
       "  </thead>\n",
       "  <tbody>\n",
       "    <tr>\n",
       "      <th>0</th>\n",
       "      <td>nan + 5409.26726588 = nan</td>\n",
       "    </tr>\n",
       "    <tr>\n",
       "      <th>1</th>\n",
       "      <td>nan + 60800.80630733 = nan</td>\n",
       "    </tr>\n",
       "    <tr>\n",
       "      <th>2</th>\n",
       "      <td>-10787.13938867 + nan = nan</td>\n",
       "    </tr>\n",
       "    <tr>\n",
       "      <th>3</th>\n",
       "      <td>6603.72733469 + nan = nan</td>\n",
       "    </tr>\n",
       "    <tr>\n",
       "      <th>4</th>\n",
       "      <td>inf + -inf = nan</td>\n",
       "    </tr>\n",
       "    <tr>\n",
       "      <th>...</th>\n",
       "      <td>...</td>\n",
       "    </tr>\n",
       "    <tr>\n",
       "      <th>1019</th>\n",
       "      <td>18.84375000 + 24.67187500 = 43.50000000</td>\n",
       "    </tr>\n",
       "    <tr>\n",
       "      <th>1020</th>\n",
       "      <td>33.56250000 + -31.85937500 = 1.70312500</td>\n",
       "    </tr>\n",
       "    <tr>\n",
       "      <th>1021</th>\n",
       "      <td>17.65625000 + 34.68750000 = 52.34375000</td>\n",
       "    </tr>\n",
       "    <tr>\n",
       "      <th>1022</th>\n",
       "      <td>-8.75781250 + -11.66406250 = -20.42187500</td>\n",
       "    </tr>\n",
       "    <tr>\n",
       "      <th>1023</th>\n",
       "      <td>-26.93750000 + -16.70312500 = -43.62500000</td>\n",
       "    </tr>\n",
       "  </tbody>\n",
       "</table>\n",
       "<p>1024 rows × 1 columns</p>\n",
       "</div>"
      ],
      "text/plain": [
       "                                               0\n",
       "0                      nan + 5409.26726588 = nan\n",
       "1                     nan + 60800.80630733 = nan\n",
       "2                    -10787.13938867 + nan = nan\n",
       "3                      6603.72733469 + nan = nan\n",
       "4                               inf + -inf = nan\n",
       "...                                          ...\n",
       "1019     18.84375000 + 24.67187500 = 43.50000000\n",
       "1020     33.56250000 + -31.85937500 = 1.70312500\n",
       "1021     17.65625000 + 34.68750000 = 52.34375000\n",
       "1022   -8.75781250 + -11.66406250 = -20.42187500\n",
       "1023  -26.93750000 + -16.70312500 = -43.62500000\n",
       "\n",
       "[1024 rows x 1 columns]"
      ]
     },
     "metadata": {},
     "output_type": "display_data"
    }
   ],
   "source": [
    "# Operation vector text file\n",
    "df = pd.DataFrame(op_v)\n",
    "display(df)\n",
    "\n",
    "# Save to .txt file\n",
    "df.to_csv(\"./test_vectors/op_summary.txt\", header=None, index=None, sep=' ', mode='w')"
   ]
  },
  {
   "cell_type": "markdown",
   "metadata": {},
   "source": [
    "### 2.3 Error Analysis\n",
    "- Compare results from software (sw) and hardware (hw).\n",
    "    - y_approx_sw is the result of using fp16 operations.\n",
    "    - y_exact_sw is the result of using fp64 operations.\n",
    "    - y_approx_hw is the result of using fp16 operations in hardware."
   ]
  },
  {
   "cell_type": "markdown",
   "metadata": {},
   "source": [
    "#### 2.3.1 Error in software:"
   ]
  },
  {
   "cell_type": "code",
   "execution_count": 116,
   "metadata": {},
   "outputs": [
    {
     "name": "stdout",
     "output_type": "stream",
     "text": [
      "a: dimension (1000,) and extended to float64\n",
      "b: dimension (1000,) and extended to float64\n",
      "y approx. in software: dimension (1000,) and extended to float64\n",
      "y exact result in software: dimension (1000,) and extended to float64\n"
     ]
    }
   ],
   "source": [
    "# Addends a and b\n",
    "# Its representation much what fp16 can represent\n",
    "# but they are extended to fp64 to get an exact result\n",
    "print(f'a: dimension {a_test.shape} and extended to {a_test.dtype}')\n",
    "print(f'b: dimension {b_test.shape} and extended to {b_test.dtype}')\n",
    "\n",
    "# Sums y\n",
    "# Results obtained operating with fp16 (approx.) --> extended to fp64 for error calculation\n",
    "# Results obtained operation with fp64 (exact)\n",
    "print(f'y approx. in software: dimension {y_approx_sw.shape} and extended to {y_approx_sw.dtype}')\n",
    "print(f'y exact result in software: dimension {y_exact_sw.shape} and extended to {y_exact_sw.dtype}')"
   ]
  },
  {
   "cell_type": "code",
   "execution_count": 117,
   "metadata": {},
   "outputs": [],
   "source": [
    "# Absolute Error calculation\n",
    "error_sw = np.abs(y_exact_sw - y_approx_sw)"
   ]
  },
  {
   "cell_type": "code",
   "execution_count": 118,
   "metadata": {},
   "outputs": [
    {
     "data": {
      "text/plain": [
       "Text(0, 0.5, '$|y_{exact} - y_{approx}|$')"
      ]
     },
     "execution_count": 118,
     "metadata": {},
     "output_type": "execute_result"
    },
    {
     "data": {
      "image/png": "[encoded data removed]",
      "text/plain": [
       "<Figure size 1000x500 with 1 Axes>"
      ]
     },
     "metadata": {},
     "output_type": "display_data"
    }
   ],
   "source": [
    "# Plot absolute error\n",
    "fig = plt.figure(facecolor=\"w\", figsize=(10, 5))\n",
    "plt.plot(error_sw, 'x')\n",
    "plt.title(\"Absolute Error in Sofware: |Exact (fp64) - Approx. (fp16)|\")\n",
    "# plt.legend([\"Train Loss\", \"Validation Loss\"])\n",
    "plt.xlabel(\"Operation Number\")\n",
    "plt.ylabel(\"$|y_{exact} - y_{approx}|$\")"
   ]
  },
  {
   "cell_type": "code",
   "execution_count": 119,
   "metadata": {},
   "outputs": [
    {
     "name": "stdout",
     "output_type": "stream",
     "text": [
      "Number of operations with errors: 492/1000\n",
      "Mean Absolute Error (MAE) in Sofware: 0.00560703\n"
     ]
    }
   ],
   "source": [
    "# Number of operations with error\n",
    "print(f'Number of operations with errors: {np.count_nonzero(error_sw)}/{ops}')\n",
    "\n",
    "# Mean Absolute Error\n",
    "print(f'Mean Absolute Error (MAE) in Sofware: {np.mean(error_sw, dtype=np.float64):.{n_fp}f}')"
   ]
  },
  {
   "cell_type": "markdown",
   "metadata": {},
   "source": [
    "#### 2.3.2 Error in hardware:\n",
    "- Some Python results differs from the RTL results: 261/1024\n",
    "    - 2/24 --> Operations with exceptions\n",
    "    - 259/1000 --> Normal Operations\n",
    "- w.r.t the exceptions, when the sum of two numbers is greater than the max. number ($sum > |65 504|$) to represent in fp16, the hardware give NaN (mantissa != 0) since it cannot calculate exactly inf (mantissa == 0).\n",
    "    - Those are the two first mistakes, so they are not considered in the analysis. "
   ]
  },
  {
   "cell_type": "code",
   "execution_count": 120,
   "metadata": {},
   "outputs": [
    {
     "data": {
      "text/html": [
       "<div>\n",
       "<style scoped>\n",
       "    .dataframe tbody tr th:only-of-type {\n",
       "        vertical-align: middle;\n",
       "    }\n",
       "\n",
       "    .dataframe tbody tr th {\n",
       "        vertical-align: top;\n",
       "    }\n",
       "\n",
       "    .dataframe thead th {\n",
       "        text-align: right;\n",
       "    }\n",
       "</style>\n",
       "<table border=\"1\" class=\"dataframe\">\n",
       "  <thead>\n",
       "    <tr style=\"text-align: right;\">\n",
       "      <th></th>\n",
       "      <th>0</th>\n",
       "    </tr>\n",
       "  </thead>\n",
       "  <tbody>\n",
       "    <tr>\n",
       "      <th>0</th>\n",
       "      <td>7e00</td>\n",
       "    </tr>\n",
       "    <tr>\n",
       "      <th>1</th>\n",
       "      <td>7e00</td>\n",
       "    </tr>\n",
       "    <tr>\n",
       "      <th>2</th>\n",
       "      <td>7e00</td>\n",
       "    </tr>\n",
       "    <tr>\n",
       "      <th>3</th>\n",
       "      <td>7e00</td>\n",
       "    </tr>\n",
       "    <tr>\n",
       "      <th>4</th>\n",
       "      <td>7e00</td>\n",
       "    </tr>\n",
       "    <tr>\n",
       "      <th>...</th>\n",
       "      <td>...</td>\n",
       "    </tr>\n",
       "    <tr>\n",
       "      <th>1019</th>\n",
       "      <td>5170</td>\n",
       "    </tr>\n",
       "    <tr>\n",
       "      <th>1020</th>\n",
       "      <td>3ed0</td>\n",
       "    </tr>\n",
       "    <tr>\n",
       "      <th>1021</th>\n",
       "      <td>528b</td>\n",
       "    </tr>\n",
       "    <tr>\n",
       "      <th>1022</th>\n",
       "      <td>cd1b</td>\n",
       "    </tr>\n",
       "    <tr>\n",
       "      <th>1023</th>\n",
       "      <td>d174</td>\n",
       "    </tr>\n",
       "  </tbody>\n",
       "</table>\n",
       "<p>1024 rows × 1 columns</p>\n",
       "</div>"
      ],
      "text/plain": [
       "         0\n",
       "0     7e00\n",
       "1     7e00\n",
       "2     7e00\n",
       "3     7e00\n",
       "4     7e00\n",
       "...    ...\n",
       "1019  5170\n",
       "1020  3ed0\n",
       "1021  528b\n",
       "1022  cd1b\n",
       "1023  d174\n",
       "\n",
       "[1024 rows x 1 columns]"
      ]
     },
     "metadata": {},
     "output_type": "display_data"
    }
   ],
   "source": [
    "# Load the hardware results\n",
    "df = pd.read_csv(\"./RTL_results/fp16_hw_results.txt\", header=None)\n",
    "display(df)"
   ]
  },
  {
   "cell_type": "code",
   "execution_count": 121,
   "metadata": {},
   "outputs": [
    {
     "name": "stdout",
     "output_type": "stream",
     "text": [
      "1000\n",
      "['cce8', 'ce0e', '491d', '4de6', 'd2d9', '47d8', '4e11', '525d', 'c71c', '548a', 'd373', 'd0d4', '49a6', 'cd91', 'd501', 'ccd4', '453c', '51e9', '4628', '47e4', '5278', 'c930', '45d4', '3ed8', 'c4b1', '5166', '4fc0', 'cf4b', '4d1e', '51a4', '47b4', '44cc', 'ce41', 'c514', 'c87c', '5270', '4c03', 'd092', '50fb', 'bb2a', 'd072', 'd4e5', '4e1d', 'd589', 'c990', '4e22', '50fc', 'd19d', 'cb9c', 'cd26', 'd3f3', '4e99', '4dc2', 'c8f2', '3100', '4be5', 'd315', '4a78', 'd02e', '4dc2', '4ed2', 'd397', 'c664', 'cc76', '4ef5', '51ea', 'c926', 'd186', '54d9', 'd5f7', 'cd56', '5475', '50aa', 'd4ec', '5281', 'd529', '5142', 'cef4', 'c448', 'c0b5', '4c5c', '5082', 'bf97', 'cd1f', '5520', 'ccec', '4f2b', '4d58', '51b6', 'cc57', '4df7', '5567', '9e00', 'c678', '4e74', 'ccb0', 'c5ac', '5452', '4350', 'c804', 'ce58', '3da0', 'c97d', 'd47a', '50fb', '457e', 'c438', 'd15a', 'ccbb', '3600', 'cd71', 'd492', 'd52e', '53d9', '4dfd', '50ef', 'd3f9', '5365', 'c5b1', 'cb44', '524f', 'd497', '4544', 'd34a', 'cefc', 'd16f', 'd4e1', '49c6', 'd277', '4d1a', '4348', '3200', '51c8', '5450', 'cc4a', 'cf9f', 'd41d', '537e', 'cd1d', '51fb', '4b0a', 'd231', 'be00', '502a', 'd24a', 'd279', '4f4a', '5018', 'd46a', '4a14', '4260', 'd0bd', '49e7', 'ccdd', 'c83d', '50b7', 'd36e', '5581', '4d72', '4920', '4c7a', 'c66d', '4eed', '49a4', '500c', '5627', 'cb2c', 'd075', '4cb2', 'd400', '4df3', 'd026', '4dde', 'cc34', '4b58', '52c0', '5040', 'd53f', 'cc0b', 'd55d', '48a6', 'cdc1', 'cd54', '513d', '5351', '5267', '4540', '4b1a', '4ef2', '526e', 'd388', '4cdc', '552c', '4997', 'c99c', 'd1da', 'bb20', '432c', 'd266', 'd0d6', '494c', 'ca86', 'cc87', '4a04', '43d0', 'cce7', 'd1f5', 'd080', 'd0f6', '2c00', 'd122', '4c02', '4cf1', '4d9e', 'd455', 'cbd4', '5427', 'd0d3', '4eac', '4c23', 'cefc', '4a08', 'd4c0', 'b42e', '4e5e', '4d7e', 'c885', '5501', '5015', '52ed', 'd047', '4c12', '4d67', 'c9e4', 'caa1', 'c799', '4b75', 'c1d0', 'd195', '5575', '47fa', '49d8', 'd204', '4b60', 'd03b', '4df0', 'cd8f', 'cc2c', '5137', '52b0', '50eb', '4f2a', 'd47d', '51eb', '4f63', 'd45c', 'cb84', 'd0d5', '508d', 'cc50', 'd04a', '5189', 'd12c', 'cc0c', 'cde9', '5404', 'cfec', 'd310', '4788', 'd038', '4b3f', '54f4', 'd41e', 'c4c0', 'd355', 'ce04', '3a40', 'd069', 'bdc0', '5090', 'd13a', '4e50', 'd526', '4fff', '4e55', '5111', 'c984', 'ce73', '5516', 'ceca', 'c040', 'cc58', 'c967', '4e00', 'd3c7', '4c1d', 'caec', 'd4a9', 'd44e', '4f84', 'c8b2', 'cc98', 'cb4e', 'cafd', '5130', 'd10b', '503c', '4932', '519f', 'd2ef', 'd329', 'd030', 'cb3a', '54e2', '5572', 'd536', 'ccf5', '5374', 'bee0', 'd2ea', 'cf74', 'd0a3', 'cf0e', '4cbe', 'd269', 'cea6', '5192', '528a', '5157', '5026', 'ccc9', '49b0', '4ecf', 'd0e7', 'ce49', 'd07b', '52e0', 'd505', '5021', '4d8b', '5014', 'cf56', '504f', '504a', 'cfbe', 'd44a', 'd289', 'ce1f', 'c0e4', 'd016', 'c885', 'd39b', 'cd16', 'cf7c', 'cc78', 'd312', '417c', '52d4', 'd48f', '4e5c', '5425', '5101', 'd1e5', 'c8a4', 'cc6a', '49bc', 'c410', 'cf91', 'd173', 'd14f', '4870', 'cce1', '4ed3', '5342', 'bd40', 'd188', 'cf8d', '4764', '51e1', 'cd02', '4cba', 'cc1f', '5478', 'caf4', '4e57', 'ba80', '4916', '4fc0', '523e', '4991', 'cc67', 'd163', '4f1a', 'ad00', '5299', '4ca0', '4f94', '543a', '556b', 'cf52', 'd4af', 'cebe', '4bbe', 'd497', 'cdc7', 'cd9a', 'c980', '5299', 'd0ee', '5506', '4658', 'd4e1', 'd40c', '496a', '50cc', 'b8e0', '48ff', 'd0ee', '50b3', 'd536', '54f2', 'd285', 'b940', 'b9c0', '3000', '40d0', '50cb', '4160', '5373', 'c850', 'cda8', '4ea7', 'd2de', '50f0', 'cc16', '51fa', '51a2', '4678', '550e', '5419', 'ceef', '3ae0', 'c764', 'd576', 'd4c0', '5267', 'ccd7', 'd104', 'd0e9', '4f51', '4ab2', 'cbfa', 'd39b', 'd3e6', '5021', 'd2c1', '45d4', '483e', '4c11', 'c5a8', '504e', 'd1eb', '54d2', '4be5', '53ce', 'd509', 'd0c2', '524e', '4e52', 'd4c7', '526b', 'd560', 'cc3d', 'c677', '4be2', '5308', 'd132', 'd06b', 'cf4c', '5446', '37c0', 'ac00', '4912', 'd3a3', '4f4b', 'd501', 'd0bd', '442c', 'cda5', 'cf4a', 'cdf0', 'cc56', '4d94', 'd1dd', '4e89', '4bdc', '3880', '4a16', 'cfe3', '4468', '5418', '4c20', 'cdec', 'd050', '4f8b', '4fdf', '4c3a', '5050', 'd498', '5557', 'd186', 'b900', 'd175', '4ec0', 'cb0a', '4c46', '4ed3', '4c96', '54a3', '52f4', 'd44e', 'd067', '4f89', 'd0c6', '497f', '4941', '546b', '52ea', '4d60', '4d50', 'd133', 'c608', 'd590', '51dd', 'cea0', 'cdba', '4daf', 'cbdc', 'd14e', '544d', 'd426', '4d14', '5471', 'd24e', '5061', 'd2ec', 'd4cb', 'c977', '534e', '53b6', 'd06d', 'cc14', 'ccde', 'cada', 'cda6', 'cf23', '3860', 'd4f6', 'c920', '4d14', '4ce9', '4994', 'd120', '4d7a', '5098', 'd24f', 'd477', 'd2d7', '4450', '529c', 'd604', 'd49c', '4e05', '54eb', '51b6', '2600', 'ce5c', 'c80c', '434b', '49b3', '501d', '4f0c', '4070', 'c95a', 'd456', '4b58', 'd43c', 'd460', '4796', '51db', '3860', 'd4e1', '4dad', 'd18c', '4b08', 'd116', '4d11', 'ccfb', 'd4df', '5058', 'd4b8', 'd0a0', '4534', 'c956', '4b5e', 'cbec', 'ccc6', 'cda4', 'c6c0', '4f91', 'c56c', 'cbdc', '4688', '5474', '4484', 'cc08', 'd046', 'c410', 'd3f6', 'ce2a', 'cbae', 'd215', '5306', '514a', 'd456', 'd458', 'cecf', '519b', 'd1ad', '4cdc', 'd31a', '51ae', 'c090', 'cf1c', 'c8b4', '4a1a', '4a5b', '4c45', '51be', 'c808', '4a26', '43a8', '543d', 'ca6c', 'd1bb', 'd5aa', 'c578', 'c080', 'd40c', 'c000', 'd053', 'd2c1', '547d', 'c8fa', '47f0', '5038', '5205', 'd417', 'd029', 'cdeb', 'd0cb', 'ccdf', '5000', '54a9', 'bac0', '502a', '546e', '4d59', 'd424', 'd54a', '50ac', 'd3ca', '4900', '487c', 'cbb0', '4795', 'c450', 'd1ca', 'cd78', '545f', 'd574', '4b08', '4d38', 'cfbb', '5248', '5631', 'c1b8', 'c762', 'c6bc', 'd121', '52a8', '5241', 'd06c', '555e', 'cc3d', '4cdf', '5545', '5172', 'cae9', 'c6e0', '5501', '3580', 'cbf5', 'd46b', 'd0bf', 'd3ef', 'd042', '4ab1', 'cae2', 'd083', '5137', 'd02c', '540c', 'cf0f', '5524', 'cd76', 'd34b', 'cd58', '5322', '51b3', '53ed', 'cc36', 'c188', 'd449', '4cb7', '5007', 'cd38', 'd127', 'd4b3', 'd480', 'd0bf', '563d', '4de1', 'd026', 'c714', '5107', 'd23b', 'd47b', 'd324', '50df', 'd09b', '4a53', 'c57c', '51d5', '54d8', '5199', '4951', 'd21b', '4590', '3dc0', '5454', '441f', 'bc10', 'd31b', '44f8', '50e8', '546f', '3000', '4380', 'cf94', '4d9b', 'cd54', '4996', '49bd', '5349', '50ce', '49ac', '5471', '40c0', '5214', '4581', '4790', '4584', 'd278', 'd182', 'cd44', 'ccb1', 'cf3e', '4f4f', '50fa', '5223', '5524', '51b9', '3e30', 'cbc2', '46d9', 'ccb9', '493b', 'd405', '4730', '50bd', 'd055', '5398', '512a', 'cf77', 'ccbd', 'ce7d', 'cad4', 'd0fb', 'd0a3', 'd461', 'c737', '49ac', '42f0', '40a8', 'd05d', '5145', 'd459', '4ae0', 'd53b', 'bef0', 'cc9d', '4e18', 'd49c', 'c338', 'cf1f', 'c668', 'c847', '5278', '53db', '4eff', '4e28', 'c438', 'c0e0', '4916', 'c935', '5335', '4f2d', 'c488', '499b', 'c1c0', 'd0cb', 'd029', 'cf5b', 'c81e', 'c960', '527a', '4bf4', '5433', 'cde5', '497c', 'd05f', '4fe4', 'd25f', 'cf93', '4aeb', '4cf4', 'c925', 'cc7e', 'd38f', 'd490', '51a1', '5182', 'd529', '5563', 'cc42', 'b4c0', 'd554', 'cf70', '4cb9', 'c040', 'd1b9', '504a', 'd01c', '4866', 'ccc4', 'ce66', 'ccdb', 'c270', 'c36d', '5426', 'd479', '4d02', 'cc19', 'd4b4', 'cc4f', 'd06c', 'd31d', '4e50', 'bac0', 'd32e', 'd1fb', 'd439', '4e9f', 'd11d', '542f', 'd2d0', 'd1e2', 'ceb2', 'cfa8', '5460', '4c38', '3fe0', 'd4c1', '4d6b', '45e4', 'd330', '4cba', '5013', '529e', '3280', 'c9b6', 'd477', '512a', '5187', '5348', '5520', '4d64', '4cde', '4dc4', '5419', 'd1f7', 'd2ae', 'cc26', '553a', '4cab', 'd421', '542d', '45f0', 'd397', 'd053', '46ec', '45d0', '5015', 'ccac', 'd293', 'd498', 'd168', 'd4ab', 'c9a4', 'c0a0', '5096', 'ce8d', '5040', 'd253', 'd415', 'c820', '54b1', 'bed0', '5291', 'ca92', 'd459', '4479', 'd0d9', 'd2cb', '504d', 'd50c', '4bfe', 'd021', 'd211', '545c', '54a7', 'cc50', '4db3', 'd148', '49f0', '50e7', '560c', '49fb', 'c7f7', '4a1c', '4ac1', '500d', '4fc3', '5200', '4984', '4ef0', 'd488', '3ac0', 'cb70', 'cbca', 'c804', '50d5', '5499', 'cc11', '4aee', '54c1', 'd483', 'd312', 'ccb0', '5142', '514a', 'cb5a', 'd4ef', '51b5', '5156', '51ea', 'd2b7', 'd13d', '50b2', 'd165', 'd184', '4c93', '4928', 'd0c1', '5170', '3ed0', '528b', 'cd1b', 'd174']\n"
     ]
    }
   ],
   "source": [
    "# Get the items in a list\n",
    "result_l = df[0].astype(str).values.tolist()\n",
    "\n",
    "# Drop the results from the exception cases\n",
    "result_l = result_l[24:]\n",
    "print(len(result_l))\n",
    "print(result_l)"
   ]
  },
  {
   "cell_type": "code",
   "execution_count": 122,
   "metadata": {},
   "outputs": [
    {
     "name": "stdout",
     "output_type": "stream",
     "text": [
      "y approx. in hardware: dimension (1000,) and extended to float64\n"
     ]
    }
   ],
   "source": [
    "# Get the fp16 representation of each result\n",
    "for i, hex_s in enumerate(result_l):\n",
    "    if (i == 0):\n",
    "        # In the 1st iteration, we create the array\n",
    "        # with the fp16 representation\n",
    "        y_approx_hw = hex_to_fp16(hex_s=hex_s)\n",
    "    elif (i == 1):\n",
    "        # fp16 representation\n",
    "        y_result = hex_to_fp16(hex_s=hex_s)\n",
    "        # Second interation, we concatenate two numbers\n",
    "        y_approx_hw = np.concatenate(([y_approx_hw],[y_result]), axis=0)\n",
    "\n",
    "    else:\n",
    "        # fp16 representation\n",
    "        y_result = hex_to_fp16(hex_s=hex_s)\n",
    "        # For the rest, we just concatenate the results\n",
    "        y_approx_hw = np.concatenate((y_approx_hw,[y_result]), axis=0)\n",
    "\n",
    "# Extend to fp64 for error calculation\n",
    "y_approx_hw = np.float64(y_approx_hw)\n",
    "\n",
    "# Debug\n",
    "print(f'y approx. in hardware: dimension {y_approx_hw.shape} and extended to {y_approx_hw.dtype}')"
   ]
  },
  {
   "cell_type": "code",
   "execution_count": 123,
   "metadata": {},
   "outputs": [],
   "source": [
    "# Absolute Error calculation\n",
    "# w.r.t. exact value in sw (fp64)\n",
    "error_hw_64 = np.abs(y_exact_sw - y_approx_hw)\n",
    "# w.r.t. approx. value in sw (fp16)\n",
    "error_hw_16 = np.abs(y_approx_sw - y_approx_hw)"
   ]
  },
  {
   "cell_type": "code",
   "execution_count": 124,
   "metadata": {},
   "outputs": [
    {
     "data": {
      "text/plain": [
       "Text(0, 0.5, '$|y_{exact} - y_{hw}|$')"
      ]
     },
     "execution_count": 124,
     "metadata": {},
     "output_type": "execute_result"
    },
    {
     "data": {
      "image/png": "[encoded data removed]",
      "text/plain": [
       "<Figure size 1000x500 with 1 Axes>"
      ]
     },
     "metadata": {},
     "output_type": "display_data"
    }
   ],
   "source": [
    "# Plot absolute error\n",
    "fig = plt.figure(facecolor=\"w\", figsize=(10, 5))\n",
    "plt.plot(error_hw_64, 'x')\n",
    "plt.title(\"Absolute Error in Hardware: |Exact (fp64) - Hardware (fp16)|\")\n",
    "# plt.legend([\"Train Loss\", \"Validation Loss\"])\n",
    "plt.xlabel(\"Operation Number\")\n",
    "plt.ylabel(\"$|y_{exact} - y_{hw}|$\")"
   ]
  },
  {
   "cell_type": "code",
   "execution_count": 125,
   "metadata": {},
   "outputs": [
    {
     "name": "stdout",
     "output_type": "stream",
     "text": [
      "Number of operations with errors: 492/1000\n",
      "Mean Absolute Error (MAE) in Hardware: 0.00771255\n"
     ]
    }
   ],
   "source": [
    "# Number of operations with error\n",
    "print(f'Number of operations with errors: {np.count_nonzero(error_hw_64)}/{ops}')\n",
    "\n",
    "# Mean Absolute Error\n",
    "print(f'Mean Absolute Error (MAE) in Hardware: {np.mean(error_hw_64, dtype=np.float64):.{n_fp}f}')"
   ]
  },
  {
   "cell_type": "code",
   "execution_count": 126,
   "metadata": {},
   "outputs": [
    {
     "data": {
      "text/plain": [
       "Text(0, 0.5, '$|y_{sw} - y_{hw}|$')"
      ]
     },
     "execution_count": 126,
     "metadata": {},
     "output_type": "execute_result"
    },
    {
     "data": {
      "image/png": "[encoded data removed]",
      "text/plain": [
       "<Figure size 1000x500 with 1 Axes>"
      ]
     },
     "metadata": {},
     "output_type": "display_data"
    }
   ],
   "source": [
    "# Plot absolute error\n",
    "fig = plt.figure(facecolor=\"w\", figsize=(10, 5))\n",
    "plt.plot(error_hw_16, 'x')\n",
    "plt.title(\"Absolute Error in Hardware: |Software (fp16) - Hardware (fp16)|\")\n",
    "# plt.legend([\"Train Loss\", \"Validation Loss\"])\n",
    "plt.xlabel(\"Operation Number\")\n",
    "plt.ylabel(\"$|y_{sw} - y_{hw}|$\")"
   ]
  },
  {
   "cell_type": "code",
   "execution_count": 127,
   "metadata": {},
   "outputs": [
    {
     "name": "stdout",
     "output_type": "stream",
     "text": [
      "Number of operations with errors: 259/1000\n",
      "Mean Absolute Error (MAE) in Hardware: 0.00804199\n"
     ]
    }
   ],
   "source": [
    "# Number of operations with error\n",
    "print(f'Number of operations with errors: {np.count_nonzero(error_hw_16)}/{ops}')\n",
    "\n",
    "# Mean Absolute Error\n",
    "print(f'Mean Absolute Error (MAE) in Hardware: {np.mean(error_hw_16, dtype=np.float64):.{n_fp}f}')"
   ]
  },
  {
   "cell_type": "markdown",
   "metadata": {},
   "source": [
    "## 3. Reconfigurable Accumulator\n",
    "- Accumulator with 16 channels."
   ]
  },
  {
   "cell_type": "markdown",
   "metadata": {},
   "source": [
    "### 3.1 Test Vectors Generation\n",
    "- All exceptions were already tested on the fp16 adder.\n",
    "- Accumulations with normal operations: 2-times 50 accumulations per channel --> 100 operations per channel.\n",
    "    - Verification for 1st accumulation at operations: 4, 10, 25, 36, 44, 50.\n",
    "    - Verification for 2nd accumulation at operations: 6, 17, 22, 37, 41, 50.\n",
    "    - Reset between 1st and 2nd accumulation.\n",
    "- Text file with 1600 data.\n",
    "    - 16 consecutive data for the correponding accumulation.  \n",
    "- For error analysis, we will store the data with different precision:\n",
    "    - `acc_in_t16` --> correspond to the exact fp16 representation.\n",
    "    - `acc_in_t64` --> correspond to the exact fp16 representation but extended to fp64 to obtain the exact result."
   ]
  },
  {
   "cell_type": "code",
   "execution_count": 7,
   "metadata": {},
   "outputs": [],
   "source": [
    "# Reduced Interval to avoid overflows\n",
    "low_l = -25\n",
    "up_l = 30\n",
    "\n",
    "# List to store accumulator input for all channels \n",
    "# 16 consecutive data correspond to one accumulation for 16 channels\n",
    "acc_in_v = []"
   ]
  },
  {
   "cell_type": "code",
   "execution_count": 8,
   "metadata": {},
   "outputs": [
    {
     "name": "stdout",
     "output_type": "stream",
     "text": [
      "Dimension of Test Matrix: (16, 100)\n",
      "Data Type of Test Matrix: float16\n",
      "[[-16.05    16.52     5.99   -12.61    -6.23   -16.61  ]\n",
      " [-22.7      0.595  -24.42    20.27    20.55   -17.22  ]\n",
      " [-22.89    13.6    -11.445   -6.434    0.9043  27.23  ]\n",
      " [-24.05    15.266   10.62   -13.836   -7.637    2.05  ]\n",
      " [  7.004    4.285   15.42   -17.44   -24.86    22.14  ]\n",
      " [ -5.445    8.09     2.592   12.95     7.688   24.34  ]]\n"
     ]
    }
   ],
   "source": [
    "# Normal Data for Accumulation\n",
    "ops = 100\n",
    "channels = 16\n",
    "seed = 107\n",
    "\n",
    "# For reproducibility\n",
    "np.random.seed(seed=seed)\n",
    "\n",
    "# Total PRN's for operations\n",
    "# We need to create a vector and then reshape it\n",
    "total_d = prng_t(low_l=low_l, up_l=up_l, n_sample=channels*ops)\n",
    "# Numbers are truncated to fp16\n",
    "total_d = np.float16(total_d)\n",
    "# Reshape to a matrix\n",
    "acc_in = np.reshape(total_d, (channels, ops))\n",
    "\n",
    "# a for error analysis\n",
    "# make a shallow copy to get a new array independent of the original\n",
    "# fp16\n",
    "acc_in_t16 = np.copy(acc_in)\n",
    "# fp64\n",
    "acc_in_t64 = np.copy(acc_in)\n",
    "acc_in_t64 = np.float64(acc_in_t64)\n",
    "\n",
    "\n",
    "print(f'Dimension of Test Matrix: {acc_in.shape}')\n",
    "print(f'Data Type of Test Matrix: {acc_in.dtype}')\n",
    "print(acc_in[:6, :6])"
   ]
  },
  {
   "cell_type": "code",
   "execution_count": 9,
   "metadata": {},
   "outputs": [
    {
     "name": "stdout",
     "output_type": "stream",
     "text": [
      "Dimension of input vector: 1600\n",
      "['1100110000000011', '1100110110101101', '1100110110111001', '1100111000000011', '0100011100000001', '1100010101110010', '0100100000110110', '1100100001101000', '1100100100011110', '0100100110011100']\n"
     ]
    }
   ],
   "source": [
    "# For the text file we need the data corresponding to each accumulation in the 16 channels\n",
    "# Store the data in column-wise\n",
    "for op in range(ops):\n",
    "    for channel in range(channels):\n",
    "        acc_in_v.append(to_FP16_bin(acc_in[channel,op]))\n",
    "\n",
    "print(f'Dimension of input vector: {len(acc_in_v)}')\n",
    "print(acc_in_v[0:10])\n"
   ]
  },
  {
   "cell_type": "markdown",
   "metadata": {},
   "source": [
    "### 3.2 Text File Creation\n",
    "- Create 1 text file:\n",
    "    - acc_test_vec.txt --> input vectors for 16 channels and up to a 100 accumulations per channel"
   ]
  },
  {
   "cell_type": "code",
   "execution_count": 152,
   "metadata": {},
   "outputs": [
    {
     "data": {
      "text/html": [
       "<div>\n",
       "<style scoped>\n",
       "    .dataframe tbody tr th:only-of-type {\n",
       "        vertical-align: middle;\n",
       "    }\n",
       "\n",
       "    .dataframe tbody tr th {\n",
       "        vertical-align: top;\n",
       "    }\n",
       "\n",
       "    .dataframe thead th {\n",
       "        text-align: right;\n",
       "    }\n",
       "</style>\n",
       "<table border=\"1\" class=\"dataframe\">\n",
       "  <thead>\n",
       "    <tr style=\"text-align: right;\">\n",
       "      <th></th>\n",
       "      <th>0</th>\n",
       "    </tr>\n",
       "  </thead>\n",
       "  <tbody>\n",
       "    <tr>\n",
       "      <th>0</th>\n",
       "      <td>1100110000000011</td>\n",
       "    </tr>\n",
       "    <tr>\n",
       "      <th>1</th>\n",
       "      <td>1100110110101101</td>\n",
       "    </tr>\n",
       "    <tr>\n",
       "      <th>2</th>\n",
       "      <td>1100110110111001</td>\n",
       "    </tr>\n",
       "    <tr>\n",
       "      <th>3</th>\n",
       "      <td>1100111000000011</td>\n",
       "    </tr>\n",
       "    <tr>\n",
       "      <th>4</th>\n",
       "      <td>0100011100000001</td>\n",
       "    </tr>\n",
       "    <tr>\n",
       "      <th>...</th>\n",
       "      <td>...</td>\n",
       "    </tr>\n",
       "    <tr>\n",
       "      <th>1595</th>\n",
       "      <td>1100000001010110</td>\n",
       "    </tr>\n",
       "    <tr>\n",
       "      <th>1596</th>\n",
       "      <td>0100110011000011</td>\n",
       "    </tr>\n",
       "    <tr>\n",
       "      <th>1597</th>\n",
       "      <td>0100110101111111</td>\n",
       "    </tr>\n",
       "    <tr>\n",
       "      <th>1598</th>\n",
       "      <td>0100101000111111</td>\n",
       "    </tr>\n",
       "    <tr>\n",
       "      <th>1599</th>\n",
       "      <td>0100110011011000</td>\n",
       "    </tr>\n",
       "  </tbody>\n",
       "</table>\n",
       "<p>1600 rows × 1 columns</p>\n",
       "</div>"
      ],
      "text/plain": [
       "                     0\n",
       "0     1100110000000011\n",
       "1     1100110110101101\n",
       "2     1100110110111001\n",
       "3     1100111000000011\n",
       "4     0100011100000001\n",
       "...                ...\n",
       "1595  1100000001010110\n",
       "1596  0100110011000011\n",
       "1597  0100110101111111\n",
       "1598  0100101000111111\n",
       "1599  0100110011011000\n",
       "\n",
       "[1600 rows x 1 columns]"
      ]
     },
     "metadata": {},
     "output_type": "display_data"
    }
   ],
   "source": [
    "# Input vector text file\n",
    "df = pd.DataFrame(acc_in_v)\n",
    "display(df)\n",
    "\n",
    "# Save to .txt file\n",
    "df.to_csv(\"./test_vectors/acc_test_vec.txt\", header=None, index=None, sep=' ', mode='w')"
   ]
  },
  {
   "cell_type": "markdown",
   "metadata": {},
   "source": [
    "### 3.3 Error Analysis\n",
    "- Compare results from software (sw) and hardware (hw).\n",
    "    - acc_appx_sw is the result of using fp16 operations.\n",
    "    - acc_ext_sw is the result of using fp64 operations.\n",
    "    - acc_appx_hw is the result of using fp16 operations in hardware."
   ]
  },
  {
   "cell_type": "markdown",
   "metadata": {},
   "source": [
    "#### 3.3.1 Error in software:"
   ]
  },
  {
   "cell_type": "code",
   "execution_count": 10,
   "metadata": {},
   "outputs": [
    {
     "name": "stdout",
     "output_type": "stream",
     "text": [
      "Test Matrix Dimension: (16, 100) \n",
      "Data is extended to float64 to get the exact results\n",
      "\n",
      "Exact Accumulation Matrix has dimension (16, 100) and type float64\n",
      "[[-16.046875     0.46875      6.45703125 ... -17.95019531 -18.19274902\n",
      "   -3.20056152]\n",
      " [-22.703125   -22.10791016 -46.52978516 ...  30.75195312  19.73632812\n",
      "   42.78320312]\n",
      " [-22.890625    -9.2890625  -20.734375   ... 166.15612793 195.90612793\n",
      "  177.15612793]\n",
      " ...\n",
      " [-18.71875    -12.25        -8.85351562 ... -86.80078125 -94.41015625\n",
      "  -72.42578125]\n",
      " [ 22.421875    43.609375    36.14453125 ... 234.54052734 245.22021484\n",
      "  257.71240234]\n",
      " [-12.3671875   15.1328125   36.6796875  ...  43.06689453  26.45751953\n",
      "   45.83251953]]\n"
     ]
    }
   ],
   "source": [
    "# Emulate the accumulation of 16 channels in software\n",
    "# Exact result using fp64\n",
    "print(f'Test Matrix Dimension: {acc_in_t64.shape} ')\n",
    "print(f'Data is extended to {acc_in_t64.dtype} to get the exact results')\n",
    "# print(acc_in_t64)\n",
    "\n",
    "# Matrix to store the accumulation results (Exact results)\n",
    "acc_ext_sw = np.zeros_like(acc_in_t64)\n",
    "\n",
    "# Each column of acc_ext_sw is equal to its previous column + the corresponding input data.\n",
    "# Only the 1st column of acc_ext_sw is equal to the 1st column of input data.\n",
    "# After the 50th accumulation, there is a reset, and we start accumulating again.\n",
    "acc_ext_sw[:,0] = acc_in_t64[:,0]\n",
    "\n",
    "for op in range(ops-1):\n",
    "    if (op == 49):\n",
    "        # Reset\n",
    "        acc_ext_sw[:,op+1] = acc_in_t64[:,op+1]\n",
    "    else:\n",
    "        acc_ext_sw[:,op+1] = acc_ext_sw[:,op] + acc_in_t64[:,op+1]\n",
    "\n",
    "print(f'\\nExact Accumulation Matrix has dimension {acc_ext_sw.shape} and type {acc_ext_sw.dtype}')\n",
    "print(acc_ext_sw)\n"
   ]
  },
  {
   "cell_type": "code",
   "execution_count": 11,
   "metadata": {},
   "outputs": [
    {
     "name": "stdout",
     "output_type": "stream",
     "text": [
      "Final accumulation result before reset in Exact Matrix: [222.77441406 204.30395508 298.29418945 130.40672302 211.19091797\n",
      " 155.20117188 116.85180664 236.44828796 -42.39868164 255.84472656\n",
      " 190.59057617 284.04527855  99.99517822 135.83410645 189.28173828\n",
      " 193.9387207 ]\n",
      "Accumulate value per channel in interval [0:49]: [222.77441406 204.30395508 298.29418945 130.40672302 211.19091797\n",
      " 155.20117188 116.85180664 236.44828796 -42.39868164 255.84472656\n",
      " 190.59057617 284.04527855  99.99517822 135.83410645 189.28173828\n",
      " 193.9387207 ]\n",
      "\n",
      "Final accumulation result after reset in Exact Matrix: [ -3.20056152  42.78320312 177.15612793 113.43408203 110.5032959\n",
      "  34.53320312 153.89160156  77.94311523 201.50415039  86.92114258\n",
      "  10.80078125 -13.21191406  96.96240234 -72.42578125 257.71240234\n",
      "  45.83251953]\n",
      "Accumulate value per channel in interval [50:99]: [ -3.20056152  42.78320312 177.15612793 113.43408203 110.5032959\n",
      "  34.53320312 153.89160156  77.94311523 201.50415039  86.92114258\n",
      "  10.80078125 -13.21191406  96.96240234 -72.42578125 257.71240234\n",
      "  45.83251953]\n"
     ]
    }
   ],
   "source": [
    "# To verify the operation\n",
    "print(f'Final accumulation result before reset in Exact Matrix: {acc_ext_sw[:,49]}')\n",
    "print(f'Accumulate value per channel in interval [0:49]: {np.sum(acc_in_t64[:,:50], axis=1)}')\n",
    "print(f'\\nFinal accumulation result after reset in Exact Matrix: {acc_ext_sw[:,99]}')\n",
    "print(f'Accumulate value per channel in interval [50:99]: {np.sum(acc_in_t64[:,50:], axis=1)}')"
   ]
  },
  {
   "cell_type": "code",
   "execution_count": 12,
   "metadata": {},
   "outputs": [
    {
     "name": "stdout",
     "output_type": "stream",
     "text": [
      "Test Matrix Dimension: (16, 100) \n",
      "Data is represented in float16 to get an approx. result\n",
      "\n",
      "Approximate Accumulation Matrix has dimension (16, 100) and extended to type float64 for error calculation\n",
      "[[-16.046875     0.46875      6.45703125 ... -17.9375     -18.1875\n",
      "   -3.1953125 ]\n",
      " [-22.703125   -22.109375   -46.53125    ...  30.625       19.609375\n",
      "   42.65625   ]\n",
      " [-22.890625    -9.2890625  -20.734375   ... 166.125      195.875\n",
      "  177.125     ]\n",
      " ...\n",
      " [-18.71875    -12.25        -8.8515625  ... -86.8125     -94.4375\n",
      "  -72.4375    ]\n",
      " [ 22.421875    43.625       36.15625    ... 234.625      245.25\n",
      "  257.75      ]\n",
      " [-12.3671875   15.1328125   36.6875     ...  43.0625      26.453125\n",
      "   45.8125    ]]\n"
     ]
    }
   ],
   "source": [
    "# Emulate the accumulation of 16 channels in software\n",
    "# Approx result using fp16\n",
    "print(f'Test Matrix Dimension: {acc_in_t16.shape} ')\n",
    "print(f'Data is represented in {acc_in_t16.dtype} to get an approx. result')\n",
    "# print(acc_in_t16)\n",
    "\n",
    "# Matrix to store the accumulation results (Approx. results in software)\n",
    "acc_appx_sw = np.zeros_like(acc_in_t16)\n",
    "\n",
    "# Each column of acc_appx_sw is equal to its previous column + the corresponding input data.\n",
    "# Only the 1st column of acc_appx_sw is equal to the 1st column of input data.\n",
    "# After the 50th accumulation, there is a reset, and we start accumulating again.\n",
    "acc_appx_sw[:,0] = acc_in_t16[:,0]\n",
    "\n",
    "for op in range(ops-1):\n",
    "    if (op == 49):\n",
    "        # Reset\n",
    "        acc_appx_sw[:,op+1] = acc_in_t16[:,op+1]\n",
    "    else:\n",
    "        acc_appx_sw[:,op+1] = acc_appx_sw[:,op] + acc_in_t16[:,op+1]\n",
    "\n",
    "acc_appx_sw = np.float64(acc_appx_sw)\n",
    "print(f'\\nApproximate Accumulation Matrix has dimension {acc_appx_sw.shape} and extended to type {acc_appx_sw.dtype} for error calculation')\n",
    "print(acc_appx_sw)\n"
   ]
  },
  {
   "cell_type": "code",
   "execution_count": 13,
   "metadata": {},
   "outputs": [
    {
     "name": "stdout",
     "output_type": "stream",
     "text": [
      "Final accumulation result before reset in Exact Matrix: [222.875  204.5    298.5    130.375  211.25   155.     117.     236.5\n",
      " -42.5    255.75   190.375  284.      99.9375 136.     189.25   193.625 ]\n",
      "Accumulate value per channel in interval [0:49]: [222.8 204.2 298.2 130.4 211.2 155.2 116.9 236.5 -42.4 255.9 190.6 284.\n",
      " 100.  135.9 189.2 194. ]\n",
      "\n",
      "Final accumulation result after reset in Exact Matrix: [ -3.1953125  42.65625   177.125     113.4375    110.625      34.40625\n",
      " 153.875      77.875     201.625      87.125      10.78125   -13.1875\n",
      "  97.0625    -72.4375    257.75       45.8125   ]\n",
      "Accumulate value per channel in interval [50:99]: [ -3.201  42.78  177.1   113.44  110.5    34.53  153.9    77.94  201.5\n",
      "  86.94   10.8   -13.21   96.94  -72.44  257.8    45.84 ]\n"
     ]
    }
   ],
   "source": [
    "# To verify the operation\n",
    "print(f'Final accumulation result before reset in Exact Matrix: {acc_appx_sw[:,49]}')\n",
    "print(f'Accumulate value per channel in interval [0:49]: {np.sum(acc_in_t16[:,:50], axis=1)}')\n",
    "print(f'\\nFinal accumulation result after reset in Exact Matrix: {acc_appx_sw[:,99]}')\n",
    "print(f'Accumulate value per channel in interval [50:99]: {np.sum(acc_in_t16[:,50:], axis=1)}')"
   ]
  },
  {
   "cell_type": "code",
   "execution_count": 14,
   "metadata": {},
   "outputs": [],
   "source": [
    "# Absolute Error calculation\n",
    "acc_error_sw = np.abs(acc_ext_sw - acc_appx_sw)"
   ]
  },
  {
   "cell_type": "code",
   "execution_count": 15,
   "metadata": {},
   "outputs": [
    {
     "data": {
      "image/png": "[encoded data removed]",
      "text/plain": [
       "<Figure size 2000x500 with 2 Axes>"
      ]
     },
     "metadata": {},
     "output_type": "display_data"
    }
   ],
   "source": [
    "fig = plt.figure(facecolor=\"w\", figsize=(20, 5))\n",
    "plt.title(\"Absolute Accumulation Error in Sofware: |Exact (fp64) - Approx. (fp16)|\")\n",
    "ax = sns.heatmap(acc_error_sw, linewidth=0.6, cmap='Blues')\n",
    "plt.xlabel(\"Number of Accumulations\")\n",
    "plt.ylabel(\"Channels\")\n",
    "plt.show()"
   ]
  },
  {
   "cell_type": "code",
   "execution_count": 16,
   "metadata": {},
   "outputs": [
    {
     "name": "stdout",
     "output_type": "stream",
     "text": [
      "Mean Absolute Error (MAE) for Accumulation per channel in Sofware:\n",
      " [0.02929443 0.07792969 0.06035645 0.01705978 0.05627075 0.04619141\n",
      " 0.05002197 0.02502274 0.05006592 0.09149902 0.03320312 0.05858244\n",
      " 0.0349585  0.06716919 0.05643066 0.09156982]\n",
      "\n",
      "Mean Absolute Error (MAE) per accumulation in Sofware:\n",
      " [0.         0.00271606 0.00421143 0.00494385 0.00494385 0.00621033\n",
      " 0.00602722 0.01005554 0.01341248 0.01667786 0.01991272 0.02613831\n",
      " 0.03175354 0.03736877 0.03614807 0.04127502 0.0381012  0.03736877\n",
      " 0.04595947 0.04162598 0.05638123 0.06541383 0.07554567 0.07304323\n",
      " 0.07206666 0.07154787 0.07246339 0.07307374 0.07832277 0.08686769\n",
      " 0.09422243 0.0976404  0.09383714 0.10463274 0.10637224 0.1077379\n",
      " 0.10554063 0.10456407 0.10764635 0.11162889 0.12371385 0.09130418\n",
      " 0.0981096  0.08159959 0.09344041 0.10085523 0.11622083 0.12036359\n",
      " 0.12018049 0.12626588 0.         0.0035553  0.00457764 0.00552368\n",
      " 0.0085144  0.01037598 0.01239014 0.01116943 0.01040649 0.01031494\n",
      " 0.01398468 0.01633453 0.01621246 0.02181244 0.02150726 0.02248383\n",
      " 0.02211761 0.02151489 0.02334595 0.02703857 0.02874756 0.0322876\n",
      " 0.03656006 0.03796387 0.03723145 0.03552246 0.0355835  0.04174805\n",
      " 0.04370117 0.04916382 0.04516602 0.05361938 0.05892944 0.06121826\n",
      " 0.0682373  0.0694046  0.07474518 0.08194733 0.07364655 0.0789566\n",
      " 0.08310699 0.07529449 0.07266998 0.06754303 0.07049561 0.07034302\n",
      " 0.06814575 0.06863403 0.06102753 0.064888  ]\n",
      "\n",
      "Mean Absolute Error (MAE) in Sofware: 0.05285162\n"
     ]
    }
   ],
   "source": [
    "# Mean Absolute Error per channel\n",
    "print(f'Mean Absolute Error (MAE) for Accumulation per channel in Sofware:\\n {np.mean(acc_error_sw, axis=1, dtype=np.float64)}')\n",
    "\n",
    "# Mean Absolute Error per accumulation\n",
    "print(f'\\nMean Absolute Error (MAE) per accumulation in Sofware:\\n {np.mean(acc_error_sw, axis=0, dtype=np.float64)}')\n",
    "\n",
    "# Mean Absolute Error\n",
    "print(f'\\nMean Absolute Error (MAE) in Sofware: {np.mean(acc_error_sw, dtype=np.float64):.{n_fp}f}')"
   ]
  },
  {
   "cell_type": "markdown",
   "metadata": {},
   "source": [
    "#### 3.3.2 Error in hardware:\n",
    "- Use all the accumulation results per channel for comparison.\n",
    "- 16 consecutive data corresponds to accumulation results for all channels."
   ]
  },
  {
   "cell_type": "code",
   "execution_count": 17,
   "metadata": {},
   "outputs": [
    {
     "data": {
      "text/html": [
       "<div>\n",
       "<style scoped>\n",
       "    .dataframe tbody tr th:only-of-type {\n",
       "        vertical-align: middle;\n",
       "    }\n",
       "\n",
       "    .dataframe tbody tr th {\n",
       "        vertical-align: top;\n",
       "    }\n",
       "\n",
       "    .dataframe thead th {\n",
       "        text-align: right;\n",
       "    }\n",
       "</style>\n",
       "<table border=\"1\" class=\"dataframe\">\n",
       "  <thead>\n",
       "    <tr style=\"text-align: right;\">\n",
       "      <th></th>\n",
       "      <th>0</th>\n",
       "    </tr>\n",
       "  </thead>\n",
       "  <tbody>\n",
       "    <tr>\n",
       "      <th>0</th>\n",
       "      <td>cc03</td>\n",
       "    </tr>\n",
       "    <tr>\n",
       "      <th>1</th>\n",
       "      <td>cdad</td>\n",
       "    </tr>\n",
       "    <tr>\n",
       "      <th>2</th>\n",
       "      <td>cdb9</td>\n",
       "    </tr>\n",
       "    <tr>\n",
       "      <th>3</th>\n",
       "      <td>ce03</td>\n",
       "    </tr>\n",
       "    <tr>\n",
       "      <th>4</th>\n",
       "      <td>4701</td>\n",
       "    </tr>\n",
       "    <tr>\n",
       "      <th>...</th>\n",
       "      <td>...</td>\n",
       "    </tr>\n",
       "    <tr>\n",
       "      <th>1595</th>\n",
       "      <td>cabf</td>\n",
       "    </tr>\n",
       "    <tr>\n",
       "      <th>1596</th>\n",
       "      <td>5601</td>\n",
       "    </tr>\n",
       "    <tr>\n",
       "      <th>1597</th>\n",
       "      <td>d47d</td>\n",
       "    </tr>\n",
       "    <tr>\n",
       "      <th>1598</th>\n",
       "      <td>5bf8</td>\n",
       "    </tr>\n",
       "    <tr>\n",
       "      <th>1599</th>\n",
       "      <td>51b3</td>\n",
       "    </tr>\n",
       "  </tbody>\n",
       "</table>\n",
       "<p>1600 rows × 1 columns</p>\n",
       "</div>"
      ],
      "text/plain": [
       "         0\n",
       "0     cc03\n",
       "1     cdad\n",
       "2     cdb9\n",
       "3     ce03\n",
       "4     4701\n",
       "...    ...\n",
       "1595  cabf\n",
       "1596  5601\n",
       "1597  d47d\n",
       "1598  5bf8\n",
       "1599  51b3\n",
       "\n",
       "[1600 rows x 1 columns]"
      ]
     },
     "metadata": {},
     "output_type": "display_data"
    }
   ],
   "source": [
    "# Load the hardware results\n",
    "df = pd.read_csv(\"./RTL_results/acc_hw_results.txt\", header=None)\n",
    "display(df)"
   ]
  },
  {
   "cell_type": "code",
   "execution_count": 18,
   "metadata": {},
   "outputs": [
    {
     "name": "stdout",
     "output_type": "stream",
     "text": [
      "1600\n",
      "['cc03', 'cdad', 'cdb9', 'ce03', '4701', 'c572', '4836', 'c868', 'c91e', '499c', '4dcb', '4bf5', 'bfe9', 'ccae', '4d9b', 'ca2f', '3780', 'cd86', 'c8a5', 'c864', '49a5', '414c', 'c450', 'cd09', 'd045', '4855', '491e', '49e6', 'cd97', 'ca20', '5173', '4b91', '4675', 'd1d0', 'cd2f', '3f58', '4ead', '453d', 'c2ec', 'd0b7', 'd362', '5031', '4c5d', '4d53', 'c71e', 'c86d', '5084', '5095', 'c627', 'ce8f', 'ceca', 'ca00', '48a2', '4c8c', 'cac6', 'd01f', 'd065', '5065', '5082', '46e8', 'cda2', 'c81f', '4d95', '4f3a', 'ca31', 'c5b0', 'ce90', 'cce8', 'cbcc', '4e78', 'b720', 'cae4', 'd327', '4ff6', '5304', '4f85', '4674', 'c468', '4450', '5046', 'cf3f', 'cdba', '3be0', 'cc64', '468c', '5247', 'c671', '4530', 'cf04', '5202', '519a', '4e10', 'c5b8', 'c296', 'c648', '5052', 'd060', 'ce43', '4b16', 'cfbb', '4ba6', '4e82', '46cd', 'c470', 'ce1b', '54c2', '5249', '51ff', '494c', 'ce19', '47ba', '53ee', 'd336', 'd13f', '49ec', 'cc26', '4eee', '528e', 'ca11', 'ccd7', 'd056', '560d', '5239', '54b9', '5049', '4458', 'cc0a', '55ba', 'd450', 'd084', '50ce', '4548', '4c20', '5036', 'ccf4', 'cd1f', 'd1e5', '5492', '4f8f', '543a', '5183', '4cf5', 'd0ef', '5431', 'd3a0', 'd067', '52d8', '4e80', '4ef4', '5272', 'ce12', 'c590', 'd20a', '563c', '527e', '54f8', '5231', '4e20', 'cd00', '54af', 'd013', 'd0ef', '5195', '51b4', '5281', '4ef3', 'd0c3', 'c866', 'ce37', '576e', '52d3', '5659', '5119', '50a9', 'ccab', '55f1', 'ccbe', 'ce5f', '546e', '521f', '4f22', '4f16', 'd37e', '45e2', 'd096', '57f4', '5088', '54f5', '52a2', '538f', 'ce18', '54c9', 'c460', 'c448', '5640', '4e3a', '5146', '5227', 'd288', '4fbb', 'd1dd', '569f', '53f8', '5650', '5311', '540e', 'c620', '5524', 'cca0', '4cea', '5604', '4f2d', '536c', '4e3f', 'd42a', '50fc', 'd35a', '57ea', '556c', '57e5', '54ce', '54ad', '4c3f', '566a', 'cc0e', '4e9b', '5565', '511e', '50dd', '5254', 'd40a', '540e', 'd499', '5866', '574a', '571a', '547a', '52fc', 'bf70', '5691', 'cf6d', '4cc5', '573f', '543e', '5162', '4fb0', 'd479', '533c', 'd3ce', '57cb', '55f8', '5749', '5629', '53df', 'c5f0', '56aa', 'c9a2', '4a26', '570a', '541c', '5358', '4ec2', 'd3af', '5048', 'd4bc', '5662', '5639', '5619', '561e', '5556', '4d07', '56f5', '4860', '509e', '56f0', '5573', '5542', '4d29', 'd44a', '4d64', 'd35f', '57d8', '54fe', '5577', '5648', '550a', '50a9', '5834', 'c87c', '5328', '5725', '54b7', '55da', '5167', 'd202', '4fe8', 'd50c', '57ee', '54fc', '55c1', '55ac', '56c7', '5310', '580a', '4c3d', '508a', '5718', '552c', '5546', '5070', 'd35a', '4768', 'd464', '57c9', '543c', '56fd', '5439', '581f', '51a2', '56c0', 'c240', '53c2', '577c', '564b', '53b5', '50cd', 'd4b5', '45cb', 'd46a', '5717', '5531', '5862', '5597', '587f', '4d7d', '5818', '402c', '5479', '5843', '54cd', '53ae', '51d8', 'd485', '4c87', 'd482', '55f3', '54fc', '5861', '540a', '5964', '5195', '58ae', 'cc9a', '5575', '58e8', '53b2', '5508', '5218', 'd4a8', '51c2', 'd52d', '5686', '5687', '5818', '553c', '5a52', '50a5', '588b', 'cc85', '55da', '5949', '5111', '5604', '52ae', 'd1be', '4ec0', 'd3d2', '5807', '5656', '58a8', '549d', '599c', '4cb9', '583e', 'cd79', '5583', '5951', '5431', '54ee', '53ac', 'd0f2', '4f4f', 'd2a7', '588d', '57a2', '590c', '5315', '59d2', '4438', '5888', 'cd00', '5663', '59be', '5210', '567a', '5385', 'd10a', '51e9', 'd467', '5898', '57b3', '59f9', '54c8', '5abf', '4cb9', '58f3', 'ccbb', '5781', '59d6', '537b', '5724', '5488', 'd1be', '4ec3', 'd55e', '58e1', '5899', '5a50', '5344', '5acf', '4bc6', '5944', 'cf6f', '57ba', '5910', '5482', '55f4', '527d', 'ccda', '52f4', 'd5fc', '583a', '5930', '5ac0', '50e0', '5a38', '4d2d', '5897', '2800', '5827', '59bf', '5593', '5652', '52d5', 'ca53', '50cb', 'd670', '5920', '59a0', '5afd', '537f', '59f8', 'bcc0', '58c4', 'c3a5', '574d', '5a7e', '556f', '5580', '52f5', 'cc5e', '51a8', 'd7d3', '588c', '59b0', '5a66', '507d', '5a47', '4af7', '58fb', 'c524', '583c', '5a86', '557a', '55ff', '54bc', 'd101', '5284', 'd882', '5972', '59b4', '5a92', '53af', '5a17', '4f74', '58bc', '4d11', '58f3', '5b19', '5558', '54de', '551c', 'cb90', '52c4', 'd8e4', '59d1', '5a83', '5a1c', '548e', '59b0', '4ce8', '5898', '51d3', '59b3', '5b3e', '5517', '5430', '542e', '3bc0', '5536', 'd840', '5999', '5b11', '59e9', '548c', '5a88', '4873', '5823', '54ab', '58fb', '5a7a', '55e0', '53fd', '55f7', '3d40', '5539', 'd861', '58f5', '5ac7', '59f5', '548f', '59f0', '444b', '5800', '54e9', '5841', '5a00', '571a', '55b6', '56ba', '48ed', '569c', 'd7be', '5903', '5ad7', '5ac5', '528f', '597e', '4cde', '58a6', '566f', '58e5', '597a', '5686', '5776', '5609', '46a6', '583d', 'd668', '5936', '5a28', '5b9d', '5075', '597f', '4bf0', '5844', '56b1', '59aa', '5a67', '55e2', '5848', '54ec', 'c81e', '5917', 'd6a9', '59a8', '59c4', '5b05', '514d', '59c1', '5122', '587b', '5733', '5a5e', '5b52', '556a', '5771', '5492', '4a12', '58ab', 'd7a1', '597a', '59dc', '5b59', '4dda', '59d1', '5067', '578b', '580a', '5abe', '5c09', '544e', '5769', '5364', 'ad00', '5963', 'd63b', '5a38', '5954', '5b8c', '4f46', '5a17', '538e', '56a8', '58f4', '5aab', '5c07', '559b', '57ee', '556f', '4df2', '58db', 'd52b', '5afd', '5938', '5ba8', '52ce', '5a1d', '53a4', '582d', '58bc', '5b2b', '5bbb', '5586', '5861', '5401', '5194', '59c7', 'd4bb', '5b5f', '58a0', '5c33', '543c', '5a57', '54d1', '58ea', '5922', '5a7c', '5c08', '557f', '58ad', '5528', '5415', '5a4f', 'd5a7', '5af7', '5908', '5c08', '546b', '5a3e', '5608', '5858', '59f5', '5a60', '5c68', '5686', '5916', '553c', '557b', '5a22', 'd5fe', '5a6d', '59a7', '5b4c', '5326', '5993', '57a2', '5842', '5941', '59da', '5c8b', '5630', '59f2', '5646', '5440', '5a42', 'd5cc', '5acf', '59bf', '5ac5', '5460', '58d7', '589e', '57d4', '5968', '5977', '5c48', '57e6', '5a17', '56fe', '54e8', '5ad3', 'd52a', '5a51', '58fb', '5acd', '542d', '5919', '594b', '5829', '59d3', '5923', '5bd3', '57e6', '59ff', '56cc', '5548', '5ace', 'd592', '5ac8', '58a2', '5ac7', '5372', '5934', '5958', '5729', '5982', '5925', '5c23', '5878', '5a43', '5656', '5601', '5b3d', 'd4a0', '5af4', '57e6', '5bb6', '548d', '58fa', '5952', '5807', '5a46', '59fe', '5c68', '57d2', '59ca', '5741', '552b', '5b55', 'd1c2', '5a64', '589a', '5bb7', '55b9', '5861', '59b9', '5896', '5a1c', '5999', '5c40', '5705', '59b7', '5880', '565f', '5b5c', 'cde0', '5b24', '5965', '5c2b', '5593', '5808', '5a9f', '5941', '5af1', '5a57', '5c9f', '580d', '5a91', '58d3', '574f', '5b5c', 'd12c', '5bf0', '59e6', '5c67', '5633', '582d', '59e6', '5a02', '4882', 'c688', '3f85', 'ce2e', '47be', 'cd01', 'caad', 'c5ad', '4c2f', '4829', '4ed8', 'cae7', 'cbd6', '4f79', '4ef9', 'c96e', '4d47', 'cfbb', '49bf', '3440', '4e72', 'cbef', 'cbde', 'cc96', '4c23', '5070', '48c6', 'c831', 'cd2f', '4cae', '4fc3', 'c802', '3c00', 'd005', '4ef3', '466d', '507e', 'ca0c', 'c198', '3f30', '4d81', '5077', '4d39', '3de8', 'cacf', 'b9a0', '530f', '4944', '4bc0', 'ce40', '4d71', '4fb9', '4e06', '3950', 'c8a1', '4e8f', '510d', '508b', '4e5f', '4af2', '3cf0', '3ea6', '53ab', '4f3f', '4913', 'd0cf', '5141', '4c1b', '4f72', '4f03', '4c27', '4874', '5192', '50bf', '5075', '50b1', 'ccfe', 'bb80', '55ad', '4b9a', 'c859', 'c848', '5382', '4f31', '4fac', '4b6a', '4fd0', '4928', '515f', '4c48', '4c50', '5436', 'd161', '3440', '560d', '4d4e', 'c8db', 'cdc9', '5248', '50e9', '5225', '3760', '5312', 'c5a4', '51d2', '50a1', '45ce', '54dc', 'cc5d', '4b29', '5733', '4200', '4889', '4508', '5176', '5261', '51cd', '49ab', '54c0', 'ca9b', '5361', '50ce', '3c30', '5406', 'd097', '45fe', '57b5', '4c7a', '4ac6', '428f', '4d66', '5395', '540c', 'c2d0', '53b7', 'cbdb', '514e', '5106', 'cc1c', '55cb', 'd204', '4a26', '57c1', '4726', '4028', '48b2', '4dd3', '5283', '52ed', 'bc9e', '5438', '3890', '50ef', '544a', 'd040', '54ea', 'cd26', 'c5ac', '587c', '4a09', 'c1ca', '4a2e', '4d14', '509f', '526d', '4d6e', '5235', '396e', '5433', '51cb', 'd20f', '53ad', '4894', 'cea1', '58cc', '4f6d', 'c6a9', '41f4', '486a', '4c1f', '5097', '4ff7', '50bd', 'c93d', '5519', '527a', 'd480', '5311', '4f13', 'cff0', '5876', '486e', 'cdb6', '4c82', 'cbf6', 'c130', '5420', '4f94', '529f', '49b7', '5346', '509c', 'd383', '51ba', '50e0', 'c9d6', '57ee', '4798', 'cf0d', '4d2c', '492e', '4d4d', '5418', '4cd5', '53ed', '510b', '5547', '5278', 'd0b1', '5261', '5118', 'c5da', '57a7', 'c6e8', 'd23f', '4e1a', 'c368', '501f', '5474', '50ea', '55cc', '4f1b', '5619', '538c', 'd345', '51be', '50db', 'cdf5', '5812', 'c846', 'd223', '4d49', '4ca3', '506a', '54b2', '5265', '563c', '4c8e', '54ca', '53a4', 'd25a', '5468', '5411', 'cfee', '5831', '4d39', 'd101', '4cb1', '51e4', '50bf', '5418', '5503', '580c', '4a37', '558e', '50f4', 'd050', '5554', '5229', 'cb90', '57e5', '5170', 'd2ef', '4578', '5494', '5339', '5419', '5585', '58e7', '4ddb', '56e0', '536d', 'd148', '53ec', '5310', '48b0', '57ff', '4e59', 'd37c', '4f64', '54c7', '517b', '519c', '5533', '5866', '41b0', '570b', '53d2', 'd336', '5460', '5189', '4c5b', '5734', '4848', 'd513', '50e3', '5691', '5127', '5078', '5679', '575f', 'c998', '5684', '554e', 'd3ed', '52a4', '5074', '3ae0', '5798', 'c998', 'd4db', '530f', '5812', '53c1', '4ed3', '553e', '5755', '4a1a', '56fe', '55ce', 'd498', '50ec', '5026', 'cda6', '588e', 'cfa0', 'd355', '537b', '572f', '54ac', '4906', '56b3', '57b4', '3dc8', '5595', '5632', 'd56e', '4c40', '4cd2', 'cedf', '58bd', 'c650', 'd44f', '5441', '55db', '55bd', '50bb', '5645', '57a0', '45b0', '56cd', '5770', 'd4aa', '4dfd', '4e32', 'd05e', '598f', '48f8', 'd115', '5357', '56f4', '5513', '52cc', '5623', '57e9', '4506', '5830', '5833', 'd1e9', '4b53', '4d6e', 'ca0a', '59e1', '4fd3', 'd402', '5434', '5814', '545e', '5437', '57ef', '5898', '5020', '584a', '579d', 'cd07', '3180', '4f95', 'ce1e', '5a31', '4f11', 'd268', '5600', '5724', '55e6', '5474', '588a', '5803', '5086', '5907', '585d', '3e50', '4dde', '51a9', 'd182', '5a3a', '50a8', 'd4b2', '5778', '5632', '5499', '5474', '5909', '5874', '5053', '597f', '5880', '4fa3', '4070', '50b5', 'd00c', '5ae6', '5094', 'd534', '5763', '55a5', '53b7', '546e', '59f3', '57fa', '4c5d', '59d6', '5852', '4d52', '4ccc', '5280', 'd186', '5a70', '4e67', 'd5c5', '584f', '576b', '551a', '52c2', '5a08', '5813', '4ce3', '59df', '58cb', '4d92', '4d3b', '5119', 'd1c0', '5a44', '4490', 'd48c', '586b', '56e4', '55bf', '535e', '597c', '578e', '502c', '5927', '593f', 'c118', 'c038', '5353', 'd3d4', '5a99', '4b03', 'd336', '5789', '571c', '55ff', '556a', '58d8', '585e', '53d2', '5988', '58bc', 'bc17', 'c675', '5336', 'd55c', '5a52', '3940', 'd016', '5640', '5710', '563d', '551c', '5863', '5911', '51cc', '59dc', '5857', '487c', 'cd60', '5436', 'd431', '5a11', '3d0b', 'd201', '55c9', '5687', '5614', '565f', '5765', '595b', '53db', '59b3', '5919', '3ca4', 'cf46', '5542', 'd4d8', '5a95', '47d6', 'd447', '564f', '5608', '55ab', '57ee', '564a', '58bd', '54a7', '595c', '593c', 'cb27', 'd146', '5545', 'd59d', '5ab0', '4aa8', 'd49c', '5673', '5753', '56db', '5687', '559a', '57ef', '5430', '5964', '587b', 'd0b6', 'd265', '55b3', 'd4a5', '5a76', 'c7dc', 'd341', '54e7', '581c', '55be', '55cf', '55cd', '586a', '5433', '58b2', '5793', 'd168', 'd444', '5749', 'd557', '5b4b', 'c5aa', 'd3e5', '5569', '5850', '55b0', '548d', '5499', '58dd', '5387', '5858', '56db', 'd0f3', 'd1be', '5820', 'd63d', '5bbf', '4c8c', 'd35f', '544a', '5795', '5734', '5495', '5270', '58b7', '53de', '58b1', '555a', 'd34e', 'cd94', '5837', 'd7b9', '5b79', '46ea', 'cf91', '532b', '57d8', '5726', '53a4', '52b7', '5921', '5188', '5857', '55eb', 'd49e', 'cfb1', '57ce', 'd5e0', '5ab3', '486b', 'c414', '50a9', '57ea', '57b0', '549e', '509c', '5880', '4db4', '5823', '54f3', 'd5b1', 'cf7e', '5831', 'd6b2', '5b6e', '50c1', 'cb36', '50e7', '5837', '581d', '537d', '4ca3', '596f', '507c', '58cc', '5465', 'd461', 'c088', '5776', 'd529', '5bef', '520c', 'cdc5', '5063', '587f', '58c9', '519e', '4f56', '58c7', '5405', '584f', '547d', 'd3f6', 'c427', '55f5', 'd507', '5b61', '53f8', 'd103', '507b', '5822', '5806', '50ee', '5262', '58cf', '526c', '591b', '54d8', 'd439', '4c12', '54d2', 'd43a', '5bad', '50db', 'cfa7', '4a36', '5899', '56ef', '542b', '541b', '597a', '52a5', '59f7', '53da', 'd0ea', '4f25', '5586', 'd5c5', '5b8e', '542e', 'ca8c', '4909', '5898', '56ce', '5605', '550f', '58f7', '52a2', '5ac7', '53ee', 'c99a', '5108', '56c6', 'd51e', '5af4', '550b', 'c53b', '5013', '5902', '5829', '54bb', '569c', '5857', '50c2', '5abf', '54a9', 'c2ce', '4ce0', '566c', 'd462', '5a8a', '52ff', 'c9d5', '5121', '58a3', '5719', '5450', '558e', '5729', '4ed3', '5b21', '527c', 'c472', '4910', '55c5', 'd4a7', '5b36', '538e', 'cc65', '4f96', '5927', '573d', '55f6', '5440', '57d7', '5310', '5b93', '5429', 'cb40', 'c3a8', '5522', 'd564', '5b40', '515b', 'cc74', '4cd5', '5a15', '57d4', '57d0', '52b8', '57f2', '54e0', '5afb', '5577', 'c580', 'c9aa', '54d1', 'd5dd', '5b95', '4e8f', 'c1a4', '514c', '597f', '5704', '56d7', '5035', '58c4', '54d8', '5a3b', '5559', '499c', 'cabf', '5601', 'd47d', '5bf8', '51b3']\n"
     ]
    }
   ],
   "source": [
    "# Get the items in a list\n",
    "result_l = df[0].astype(str).values.tolist()\n",
    "\n",
    "print(len(result_l))\n",
    "print(result_l)"
   ]
  },
  {
   "cell_type": "code",
   "execution_count": 19,
   "metadata": {},
   "outputs": [
    {
     "name": "stdout",
     "output_type": "stream",
     "text": [
      "Accumulation approx. in hardware: dimension (16, 100) and extended to float64\n"
     ]
    }
   ],
   "source": [
    "# Get the fp16 representation of each result\n",
    "for i, hex_s in enumerate(result_l):\n",
    "    if (i == 0):\n",
    "        # In the 1st iteration, we create the array\n",
    "        # with the fp16 representation\n",
    "        acc_appx_hw = hex_to_fp16(hex_s=hex_s)\n",
    "    elif (i == 1):\n",
    "        # fp16 representation\n",
    "        acc_result = hex_to_fp16(hex_s=hex_s)\n",
    "        # Second interation, we concatenate two numbers\n",
    "        acc_appx_hw = np.concatenate(([acc_appx_hw],[acc_result]), axis=0)\n",
    "\n",
    "    else:\n",
    "        # fp16 representation\n",
    "        acc_result = hex_to_fp16(hex_s=hex_s)\n",
    "        # For the rest, we just concatenate the results\n",
    "        acc_appx_hw = np.concatenate((acc_appx_hw,[acc_result]), axis=0)\n",
    "\n",
    "# Extend to fp64 for error calculation\n",
    "acc_appx_hw = np.float64(acc_appx_hw)\n",
    "\n",
    "# Reshape to (number of acc., channel) to place each accumulation result in each row\n",
    "acc_appx_hw = np.reshape(acc_appx_hw, (ops, channels))\n",
    "\n",
    "# Transpose the matrix to get the proper dimension\n",
    "acc_appx_hw = np.transpose(acc_appx_hw)\n",
    "\n",
    "# Debug\n",
    "print(f'Accumulation approx. in hardware: dimension {acc_appx_hw.shape} and extended to {acc_appx_hw.dtype}')"
   ]
  },
  {
   "cell_type": "code",
   "execution_count": 20,
   "metadata": {},
   "outputs": [],
   "source": [
    "# Absolute Error calculation\n",
    "# w.r.t. exact value in sw (fp64)\n",
    "acc_error_hw_64 = np.abs(acc_ext_sw - acc_appx_hw)\n",
    "# w.r.t. approx. value in sw (fp16)\n",
    "acc_error_hw_16 = np.abs(acc_appx_sw - acc_appx_hw)"
   ]
  },
  {
   "cell_type": "code",
   "execution_count": 21,
   "metadata": {},
   "outputs": [
    {
     "data": {
      "image/png": "[encoded data removed]",
      "text/plain": [
       "<Figure size 2000x500 with 2 Axes>"
      ]
     },
     "metadata": {},
     "output_type": "display_data"
    }
   ],
   "source": [
    "fig = plt.figure(facecolor=\"w\", figsize=(20, 5))\n",
    "plt.title(\"Absolute Accumulation Error in Hardware: |Exact (fp64) - Hardware (fp16)|\")\n",
    "ax = sns.heatmap(acc_error_hw_64, linewidth=0.6, cmap='Blues')\n",
    "plt.xlabel(\"Number of Accumulations\")\n",
    "plt.ylabel(\"Channels\")\n",
    "plt.show()"
   ]
  },
  {
   "cell_type": "code",
   "execution_count": 22,
   "metadata": {},
   "outputs": [
    {
     "name": "stdout",
     "output_type": "stream",
     "text": [
      "Mean Absolute Error (MAE) for Accumulation per channel in Hardware:\n",
      " [0.15827881 0.2740332  0.61210937 0.31896408 0.40989136 0.31033203\n",
      " 0.33542236 0.17261642 0.59019287 0.62032715 0.46061035 0.52856291\n",
      " 0.31619873 0.46751831 0.63230957 0.35210693]\n",
      "\n",
      "Mean Absolute Error (MAE) per accumulation in Hardware:\n",
      " [0.         0.00363159 0.0090332  0.01416016 0.01586914 0.02046204\n",
      " 0.02412415 0.0309906  0.03684998 0.04518127 0.05519104 0.06044006\n",
      " 0.07484436 0.09046936 0.10389709 0.11366272 0.12709045 0.15711975\n",
      " 0.17108154 0.19384766 0.21705627 0.24958742 0.26777589 0.3058008\n",
      " 0.32240236 0.34947145 0.37651002 0.39933717 0.43485963 0.46806276\n",
      " 0.5005945  0.53684938 0.577968   0.60747087 0.63890398 0.66283739\n",
      " 0.70605028 0.74889696 0.77288377 0.81498277 0.8551439  0.89930284\n",
      " 0.94886339 1.00538194 1.06226671 1.0996803  1.15499341 1.1834892\n",
      " 1.23317182 1.28574121 0.         0.00572205 0.01202393 0.01611328\n",
      " 0.02008057 0.02352905 0.03030396 0.04165649 0.05169678 0.06311035\n",
      " 0.07212067 0.07987213 0.08115387 0.08943939 0.10414886 0.12462616\n",
      " 0.13951874 0.16038513 0.17808533 0.19419861 0.20695496 0.22343445\n",
      " 0.23564148 0.26609802 0.29270935 0.31163025 0.34947205 0.37236023\n",
      " 0.39665222 0.42240906 0.44606018 0.47843933 0.50389099 0.53483582\n",
      " 0.56614685 0.59319305 0.62465668 0.64730072 0.67427826 0.70656586\n",
      " 0.7302475  0.76564789 0.79213715 0.82826996 0.85185242 0.87733459\n",
      " 0.90498352 0.93623352 0.95511627 0.98009491]\n",
      "\n",
      "Mean Absolute Error (MAE) in Hardware w.r.t. Exact Value: 0.40996715\n"
     ]
    }
   ],
   "source": [
    "# Mean Absolute Error per channel\n",
    "print(f'Mean Absolute Error (MAE) for Accumulation per channel in Hardware:\\n {np.mean(acc_error_hw_64, axis=1, dtype=np.float64)}')\n",
    "\n",
    "# Mean Absolute Error per accumulation\n",
    "print(f'\\nMean Absolute Error (MAE) per accumulation in Hardware:\\n {np.mean(acc_error_hw_64, axis=0, dtype=np.float64)}')\n",
    "\n",
    "# Mean Absolute Error\n",
    "print(f'\\nMean Absolute Error (MAE) in Hardware w.r.t. Exact Value: {np.mean(acc_error_hw_64, dtype=np.float64):.{n_fp}f}')"
   ]
  },
  {
   "cell_type": "code",
   "execution_count": 23,
   "metadata": {},
   "outputs": [
    {
     "data": {
      "image/png": "[encoded data removed]",
      "text/plain": [
       "<Figure size 2000x500 with 2 Axes>"
      ]
     },
     "metadata": {},
     "output_type": "display_data"
    }
   ],
   "source": [
    "fig = plt.figure(facecolor=\"w\", figsize=(20, 5))\n",
    "plt.title(\"Absolute Accumulation Error in Hardware: |Approx. (fp16) - Hardware (fp16)|\")\n",
    "ax = sns.heatmap(acc_error_hw_16, linewidth=0.6, cmap='Blues')\n",
    "plt.xlabel(\"Number of Accumulations\")\n",
    "plt.ylabel(\"Channels\")\n",
    "plt.show()"
   ]
  },
  {
   "cell_type": "code",
   "execution_count": 24,
   "metadata": {},
   "outputs": [
    {
     "name": "stdout",
     "output_type": "stream",
     "text": [
      "Mean Absolute Error (MAE) for Accumulation per channel in Hardware:\n",
      " [0.14785156 0.27890625 0.57304687 0.32125    0.4621875  0.26621094\n",
      " 0.2928125  0.15836426 0.638125   0.65429688 0.44664063 0.48667969\n",
      " 0.308125   0.52828125 0.6815625  0.26450195]\n",
      "\n",
      "Mean Absolute Error (MAE) per accumulation in Hardware:\n",
      " [0.         0.00634766 0.01293945 0.015625   0.01757812 0.02539062\n",
      " 0.02734375 0.03076172 0.03515625 0.04296875 0.04638672 0.04638672\n",
      " 0.05566406 0.07226562 0.08398438 0.08496094 0.09765625 0.13476562\n",
      " 0.15136719 0.17675781 0.1965332  0.23828125 0.25195312 0.29296875\n",
      " 0.30566406 0.34082031 0.36328125 0.38378906 0.42480469 0.45996094\n",
      " 0.49511719 0.53417969 0.58203125 0.60546875 0.62695312 0.63476562\n",
      " 0.67578125 0.734375   0.74609375 0.77929688 0.82421875 0.875\n",
      " 0.9296875  0.98828125 1.0625     1.1015625  1.16015625 1.1796875\n",
      " 1.23046875 1.27734375 0.         0.0078125  0.01611328 0.02001953\n",
      " 0.02539062 0.03027344 0.03417969 0.04394531 0.05371094 0.06152344\n",
      " 0.07620239 0.08569336 0.08569336 0.10131836 0.11914062 0.13867188\n",
      " 0.14941406 0.16308594 0.17675781 0.19238281 0.203125   0.21777344\n",
      " 0.22265625 0.25708008 0.28613281 0.30859375 0.34570312 0.36328125\n",
      " 0.3828125  0.40332031 0.43261719 0.45904541 0.49047852 0.52636719\n",
      " 0.57470703 0.60595703 0.63964844 0.66308594 0.69482422 0.73632812\n",
      " 0.7578125  0.79370117 0.8125     0.84570312 0.86523438 0.89257812\n",
      " 0.92626953 0.95800781 0.97265625 0.99560547]\n",
      "\n",
      "Mean Absolute Error (MAE) in Hardware w.r.t. Approx. Value: 0.40680267\n"
     ]
    }
   ],
   "source": [
    "# Mean Absolute Error per channel\n",
    "print(f'Mean Absolute Error (MAE) for Accumulation per channel in Hardware:\\n {np.mean(acc_error_hw_16, axis=1, dtype=np.float64)}')\n",
    "\n",
    "# Mean Absolute Error per accumulation\n",
    "print(f'\\nMean Absolute Error (MAE) per accumulation in Hardware:\\n {np.mean(acc_error_hw_16, axis=0, dtype=np.float64)}')\n",
    "\n",
    "# Mean Absolute Error\n",
    "print(f'\\nMean Absolute Error (MAE) in Hardware w.r.t. Approx. Value: {np.mean(acc_error_hw_16, dtype=np.float64):.{n_fp}f}')"
   ]
  },
  {
   "cell_type": "markdown",
   "metadata": {},
   "source": [
    "# Test"
   ]
  },
  {
   "cell_type": "markdown",
   "metadata": {},
   "source": [
    "- Variation of normal numbers from full precision (FP32) to half precision (FP16)"
   ]
  },
  {
   "cell_type": "code",
   "execution_count": 6,
   "metadata": {},
   "outputs": [
    {
     "name": "stdout",
     "output_type": "stream",
     "text": [
      "Original number: -39.393509404526725 --> Type <class 'float'>\n",
      "FP32 number: -39.39350891113281 --> Type float32\n",
      "FP16 number: -39.40625 --> Type float16\n",
      "Back to FP32 number: -39.40625 --> Type float32\n",
      "To FP64 number: -39.40625 --> Type float64\n"
     ]
    }
   ],
   "source": [
    "# Reduced Interval to avoid overflows\n",
    "low_l = -50\n",
    "up_l = 50\n",
    "\n",
    "np.random.seed(seed=124)\n",
    "\n",
    "# Generate a random number\n",
    "aux1 = prng_t(low_l=low_l, up_l=up_l)\n",
    "print(f'Original number: {aux1} --> Type {type(aux1)}')\n",
    "\n",
    "# Conver to float32\n",
    "aux1 = np.float32(aux1)\n",
    "print(f'FP32 number: {aux1} --> Type {aux1.dtype}')\n",
    "\n",
    "# Conver to float16 (half precision)\n",
    "aux1 = np.float16(aux1)\n",
    "print(f'FP16 number: {aux1} --> Type {aux1.dtype}')\n",
    "\n",
    "# Back to float32 (Single precision)\n",
    "aux1 = np.float32(aux1)\n",
    "print(f'Back to FP32 number: {aux1} --> Type {aux1.dtype}')\n",
    "\n",
    "# Back to float64 (double precision)\n",
    "aux1 = np.float64(aux1)\n",
    "print(f'To FP64 number: {aux1} --> Type {aux1.dtype}')"
   ]
  },
  {
   "cell_type": "markdown",
   "metadata": {},
   "source": [
    "- Normal Numbers range in Python"
   ]
  },
  {
   "cell_type": "code",
   "execution_count": 164,
   "metadata": {},
   "outputs": [
    {
     "data": {
      "text/plain": [
       "'0111101111111111'"
      ]
     },
     "execution_count": 164,
     "metadata": {},
     "output_type": "execute_result"
    }
   ],
   "source": [
    "# For Python this is the maximum FP16 \n",
    "to_FP16_bin(65519)"
   ]
  },
  {
   "cell_type": "code",
   "execution_count": 167,
   "metadata": {},
   "outputs": [
    {
     "data": {
      "text/plain": [
       "'1111101111111111'"
      ]
     },
     "execution_count": 167,
     "metadata": {},
     "output_type": "execute_result"
    }
   ],
   "source": [
    "# For Python this is the minimum FP16\n",
    "to_FP16_bin(-65519)"
   ]
  },
  {
   "cell_type": "markdown",
   "metadata": {},
   "source": [
    "- Subnormal Numbers range in Python"
   ]
  },
  {
   "cell_type": "code",
   "execution_count": 179,
   "metadata": {},
   "outputs": [
    {
     "data": {
      "text/plain": [
       "'0000001111111111'"
      ]
     },
     "execution_count": 179,
     "metadata": {},
     "output_type": "execute_result"
    }
   ],
   "source": [
    "# Largest subnormal number\n",
    "# to_FP16_bin(0.00006097555160522461)\n",
    "to_FP16_bin(0.000061)"
   ]
  },
  {
   "cell_type": "code",
   "execution_count": 125,
   "metadata": {},
   "outputs": [
    {
     "name": "stdout",
     "output_type": "stream",
     "text": [
      "1111111000000000\n"
     ]
    }
   ],
   "source": [
    "a =  np.inf\n",
    "b = -np.inf\n",
    "print(to_FP16_bin(a+b))"
   ]
  },
  {
   "cell_type": "code",
   "execution_count": null,
   "metadata": {},
   "outputs": [],
   "source": []
  },
  {
   "cell_type": "code",
   "execution_count": 34,
   "metadata": {},
   "outputs": [
    {
     "name": "stdout",
     "output_type": "stream",
     "text": [
      "0111110000000000\n"
     ]
    }
   ],
   "source": [
    "a = to_FP16_bin(np.inf)\n",
    "print(a)"
   ]
  },
  {
   "cell_type": "code",
   "execution_count": 35,
   "metadata": {},
   "outputs": [
    {
     "name": "stdout",
     "output_type": "stream",
     "text": [
      "1111110000000000\n"
     ]
    }
   ],
   "source": [
    "a = to_FP16_bin(-np.inf)\n",
    "print(a)"
   ]
  },
  {
   "cell_type": "code",
   "execution_count": 32,
   "metadata": {},
   "outputs": [
    {
     "name": "stdout",
     "output_type": "stream",
     "text": [
      "0111111000000000\n"
     ]
    }
   ],
   "source": [
    "a = to_FP16_bin(np.nan)\n",
    "print(a)"
   ]
  },
  {
   "cell_type": "code",
   "execution_count": 31,
   "metadata": {},
   "outputs": [
    {
     "name": "stdout",
     "output_type": "stream",
     "text": [
      "nan\n",
      "0111111000000000\n"
     ]
    }
   ],
   "source": [
    "aux1 = np.nan + 1.\n",
    "print(aux1)\n",
    "print(to_FP16_bin(aux1))"
   ]
  },
  {
   "cell_type": "code",
   "execution_count": 29,
   "metadata": {},
   "outputs": [
    {
     "name": "stdout",
     "output_type": "stream",
     "text": [
      "0.4160974819907892\n"
     ]
    }
   ],
   "source": [
    "np.random.seed(191)\n",
    "low_l = -5\n",
    "up_l = 5\n",
    "\n",
    "aux2 = (up_l - low_l) * np.random.random_sample() + low_l\n",
    "print(aux2)"
   ]
  },
  {
   "cell_type": "code",
   "execution_count": 110,
   "metadata": {},
   "outputs": [
    {
     "name": "stdout",
     "output_type": "stream",
     "text": [
      "21331.735292663914\n"
     ]
    }
   ],
   "source": [
    "aux3 = (up_l - low_l) * np.random.random_sample() + low_l\n",
    "print(aux3)"
   ]
  },
  {
   "cell_type": "markdown",
   "metadata": {},
   "source": [
    "- Hex data to fp16"
   ]
  },
  {
   "cell_type": "code",
   "execution_count": 136,
   "metadata": {},
   "outputs": [
    {
     "name": "stdout",
     "output_type": "stream",
     "text": [
      "0100110011101100\n",
      "<class 'str'>\n",
      "16\n"
     ]
    }
   ],
   "source": [
    "# Simulate of the results from testbench\n",
    "hex_string = '4cec'\n",
    "# hex_string = '3fe0'\n",
    "# hex_string = 'd0c1'\n",
    "\n",
    "# Hex string --> INT16 --> INT16 to binary string\n",
    "aux1 = bin(int(hex_string, 16))\n",
    "# Drop the '0b'\n",
    "aux1 = aux1[2:].zfill(16)\n",
    "\n",
    "print(aux1)\n",
    "print(type(aux1))\n",
    "print(len(aux1))"
   ]
  },
  {
   "cell_type": "code",
   "execution_count": 137,
   "metadata": {},
   "outputs": [
    {
     "name": "stdout",
     "output_type": "stream",
     "text": [
      "Sign in bits: 0\n",
      "Sign value is 0.0 and type is float16\n",
      "\n",
      "Exponent in bits: 10011\n",
      "Exponent value is 19.0 and type is float16\n",
      "\n",
      "Mantissa in bits: 0011101100\n",
      "Mantissa value is 236.0 and type is float16\n",
      "\n"
     ]
    }
   ],
   "source": [
    "# Separate sign, exponent, and mantissa.\n",
    "# Get their numerical representation\n",
    "# Turn the number into fp16 to make sure that the reconstructed number will be fp16\n",
    "\n",
    "sign_t = aux1[0]\n",
    "print(f'Sign in bits: {sign_t}')\n",
    "sign_t = int(sign_t, 2)\n",
    "sign_t = np.float16(sign_t)\n",
    "print(f'Sign value is {sign_t} and type is {sign_t.dtype}\\n')\n",
    "\n",
    "exp_t = aux1[1:6]\n",
    "print(f'Exponent in bits: {exp_t}')\n",
    "exp_t = int(exp_t, 2)\n",
    "exp_t = np.float16(exp_t)\n",
    "print(f'Exponent value is {exp_t} and type is {exp_t.dtype}\\n')\n",
    "\n",
    "man_t = aux1[6:]\n",
    "print(f'Mantissa in bits: {man_t}')\n",
    "man_t = int(man_t, 2)\n",
    "man_t = np.float16(man_t)\n",
    "print(f'Mantissa value is {man_t} and type is {man_t.dtype}\\n')"
   ]
  },
  {
   "cell_type": "code",
   "execution_count": 138,
   "metadata": {},
   "outputs": [
    {
     "name": "stdout",
     "output_type": "stream",
     "text": [
      "fp16 Decimal number: 19.6875\n",
      "and type is float16\n"
     ]
    }
   ],
   "source": [
    "# Apply the formula to calculate fp6 number\n",
    "number_t = ((np.float16(-1))**sign_t) * (np.float16(2)**(exp_t - np.float16(15))) * (np.float16(1) + (man_t/np.float16(1024)))\n",
    "print(f'fp16 Decimal number: {number_t}')\n",
    "print(f'and type is {number_t.dtype}')"
   ]
  },
  {
   "cell_type": "code",
   "execution_count": 139,
   "metadata": {},
   "outputs": [
    {
     "name": "stdout",
     "output_type": "stream",
     "text": [
      "(2,)\n",
      "[19.69 19.69]\n",
      "float16\n",
      "19.6875\n"
     ]
    }
   ],
   "source": [
    "aux2 = np.concatenate(([number_t],[number_t]), axis=0)\n",
    "print(aux2.shape)\n",
    "print(aux2)\n",
    "print(aux2.dtype)\n",
    "print(f'{aux2[0]}')"
   ]
  },
  {
   "cell_type": "code",
   "execution_count": 143,
   "metadata": {},
   "outputs": [
    {
     "name": "stdout",
     "output_type": "stream",
     "text": [
      "(3,)\n",
      "[19.6875 19.6875  1.13  ]\n",
      "float64\n"
     ]
    }
   ],
   "source": [
    "aux3 = np.concatenate((aux2, [1.13]), axis=0)\n",
    "print(aux3.shape)\n",
    "print(aux3)\n",
    "print(aux3.dtype)"
   ]
  },
  {
   "cell_type": "code",
   "execution_count": 144,
   "metadata": {},
   "outputs": [
    {
     "name": "stdout",
     "output_type": "stream",
     "text": [
      "(4,)\n",
      "[ 19.6875  19.6875   1.13   -22.94  ]\n",
      "float64\n"
     ]
    }
   ],
   "source": [
    "aux4 = np.concatenate((aux3, [-22.94]), axis=0)\n",
    "print(aux4.shape)\n",
    "print(aux4)\n",
    "print(aux4.dtype)"
   ]
  },
  {
   "cell_type": "code",
   "execution_count": 145,
   "metadata": {},
   "outputs": [
    {
     "name": "stdout",
     "output_type": "stream",
     "text": [
      "(2, 2)\n",
      "[[ 19.6875  19.6875]\n",
      " [  1.13   -22.94  ]]\n",
      "float64\n"
     ]
    }
   ],
   "source": [
    "aux5 = np.reshape(aux4, (2,2))\n",
    "print(aux5.shape)\n",
    "print(aux5)\n",
    "print(aux5.dtype)"
   ]
  },
  {
   "cell_type": "code",
   "execution_count": 146,
   "metadata": {},
   "outputs": [
    {
     "name": "stdout",
     "output_type": "stream",
     "text": [
      "(2, 2)\n",
      "[[ 19.6875   1.13  ]\n",
      " [ 19.6875 -22.94  ]]\n",
      "float64\n"
     ]
    }
   ],
   "source": [
    "aux6 = np.transpose(aux5)\n",
    "print(aux6.shape)\n",
    "print(aux6)\n",
    "print(aux6.dtype)"
   ]
  },
  {
   "cell_type": "code",
   "execution_count": null,
   "metadata": {},
   "outputs": [],
   "source": [
    "idx = np.where(np.isinf(y_approx_hw))\n",
    "print(idx)\n",
    "print(result_l[892])"
   ]
  },
  {
   "cell_type": "markdown",
   "metadata": {},
   "source": [
    "- Array of objects"
   ]
  },
  {
   "cell_type": "code",
   "execution_count": 18,
   "metadata": {},
   "outputs": [
    {
     "name": "stdout",
     "output_type": "stream",
     "text": [
      "[[None None]\n",
      " [None None]]\n",
      "[['Pri' None]\n",
      " [None 'Pul']]\n"
     ]
    }
   ],
   "source": [
    "aux1 = np.empty((2,2), dtype=object)\n",
    "print(aux1)\n",
    "\n",
    "aux1[0,0] = 'Pri'\n",
    "aux1[1,1] = 'Pul'\n",
    "print(aux1)"
   ]
  }
 ],
 "metadata": {
  "kernelspec": {
   "display_name": "statistics_env",
   "language": "python",
   "name": "python3"
  },
  "language_info": {
   "codemirror_mode": {
    "name": "ipython",
    "version": 3
   },
   "file_extension": ".py",
   "mimetype": "text/x-python",
   "name": "python",
   "nbconvert_exporter": "python",
   "pygments_lexer": "ipython3",
   "version": "3.11.4"
  }
 },
 "nbformat": 4,
 "nbformat_minor": 2
}
